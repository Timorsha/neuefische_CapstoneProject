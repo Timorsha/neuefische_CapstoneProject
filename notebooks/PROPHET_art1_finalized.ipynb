{
 "cells": [
  {
   "cell_type": "code",
   "execution_count": 1,
   "id": "89440f58",
   "metadata": {},
   "outputs": [
    {
     "name": "stderr",
     "output_type": "stream",
     "text": [
      "Importing plotly failed. Interactive plots will not work.\n"
     ]
    }
   ],
   "source": [
    "# Importing required libraries\n",
    "import requests\n",
    "import pandas as pd\n",
    "import csv\n",
    "import numpy as np\n",
    "from itertools import permutations\n",
    "import matplotlib.pyplot as plt\n",
    "import seaborn as sns\n",
    "import datetime\n",
    "import random\n",
    "import math\n",
    "from fbprophet.diagnostics import performance_metrics\n",
    "from sklearn.model_selection import ParameterGrid\n",
    "import matplotlib.dates as mdates\n",
    "from sklearn.model_selection import train_test_split\n",
    "from sklearn.linear_model import LinearRegression\n",
    "from sklearn.metrics import mean_absolute_percentage_error\n",
    "\n",
    "from sklearn.metrics import mean_squared_error\n",
    "from sklearn.metrics import mean_absolute_error\n",
    "from math import sqrt\n",
    "import scipy.stats as sp\n",
    "from statsmodels.tsa.stattools import adfuller,kpss\n",
    "from statsmodels.tsa.seasonal import seasonal_decompose\n",
    "from statsmodels.tsa.arima_model import ARIMA\n",
    "from statsmodels.tsa.statespace.sarimax import SARIMAX\n",
    "from fbprophet import Prophet\n",
    "from statsmodels.graphics.tsaplots import plot_pacf\n",
    "\n",
    "#from pmdarima.arima import auto_arima\n",
    "import statsmodels.graphics.tsaplots as tsaplot\n",
    "from statsmodels.tsa.holtwinters import Holt, ExponentialSmoothing, SimpleExpSmoothing\n",
    "\n",
    "import warnings\n",
    "warnings.filterwarnings('ignore')"
   ]
  },
  {
   "cell_type": "code",
   "execution_count": 2,
   "id": "c04dfe45",
   "metadata": {},
   "outputs": [],
   "source": [
    "# Define plotting parameters and custom color palette \n",
    "cmaps_hex = ['#193251','#FF5A36','#1E4485', '#99D04A','#FF5A36', '#DB6668']\n",
    "#sns.set_palette(palette=cmaps_hex)\n",
    "sns_c = sns.color_palette(palette=cmaps_hex)\n",
    "\n",
    "plt.rcParams['figure.figsize'] = [15, 5]\n",
    "plt.rcParams['figure.dpi'] = 100"
   ]
  },
  {
   "cell_type": "code",
   "execution_count": 3,
   "id": "fd15748d",
   "metadata": {},
   "outputs": [
    {
     "data": {
      "text/html": [
       "<div>\n",
       "<style scoped>\n",
       "    .dataframe tbody tr th:only-of-type {\n",
       "        vertical-align: middle;\n",
       "    }\n",
       "\n",
       "    .dataframe tbody tr th {\n",
       "        vertical-align: top;\n",
       "    }\n",
       "\n",
       "    .dataframe thead th {\n",
       "        text-align: right;\n",
       "    }\n",
       "</style>\n",
       "<table border=\"1\" class=\"dataframe\">\n",
       "  <thead>\n",
       "    <tr style=\"text-align: right;\">\n",
       "      <th></th>\n",
       "      <th>Sold_On</th>\n",
       "      <th>Article_Number</th>\n",
       "      <th>Amount_Sold</th>\n",
       "      <th>Amount_Delivered</th>\n",
       "      <th>Year</th>\n",
       "      <th>Month</th>\n",
       "      <th>Week</th>\n",
       "      <th>Day</th>\n",
       "    </tr>\n",
       "  </thead>\n",
       "  <tbody>\n",
       "    <tr>\n",
       "      <th>0</th>\n",
       "      <td>2012-01-16</td>\n",
       "      <td>1</td>\n",
       "      <td>9</td>\n",
       "      <td>20</td>\n",
       "      <td>2012</td>\n",
       "      <td>1</td>\n",
       "      <td>3</td>\n",
       "      <td>0</td>\n",
       "    </tr>\n",
       "    <tr>\n",
       "      <th>1</th>\n",
       "      <td>2012-01-17</td>\n",
       "      <td>1</td>\n",
       "      <td>14</td>\n",
       "      <td>20</td>\n",
       "      <td>2012</td>\n",
       "      <td>1</td>\n",
       "      <td>3</td>\n",
       "      <td>1</td>\n",
       "    </tr>\n",
       "    <tr>\n",
       "      <th>2</th>\n",
       "      <td>2012-01-18</td>\n",
       "      <td>1</td>\n",
       "      <td>29</td>\n",
       "      <td>30</td>\n",
       "      <td>2012</td>\n",
       "      <td>1</td>\n",
       "      <td>3</td>\n",
       "      <td>2</td>\n",
       "    </tr>\n",
       "    <tr>\n",
       "      <th>3</th>\n",
       "      <td>2012-01-19</td>\n",
       "      <td>1</td>\n",
       "      <td>13</td>\n",
       "      <td>15</td>\n",
       "      <td>2012</td>\n",
       "      <td>1</td>\n",
       "      <td>3</td>\n",
       "      <td>3</td>\n",
       "    </tr>\n",
       "    <tr>\n",
       "      <th>4</th>\n",
       "      <td>2012-01-20</td>\n",
       "      <td>1</td>\n",
       "      <td>14</td>\n",
       "      <td>25</td>\n",
       "      <td>2012</td>\n",
       "      <td>1</td>\n",
       "      <td>3</td>\n",
       "      <td>4</td>\n",
       "    </tr>\n",
       "    <tr>\n",
       "      <th>...</th>\n",
       "      <td>...</td>\n",
       "      <td>...</td>\n",
       "      <td>...</td>\n",
       "      <td>...</td>\n",
       "      <td>...</td>\n",
       "      <td>...</td>\n",
       "      <td>...</td>\n",
       "      <td>...</td>\n",
       "    </tr>\n",
       "    <tr>\n",
       "      <th>5377</th>\n",
       "      <td>2021-04-10</td>\n",
       "      <td>1</td>\n",
       "      <td>48</td>\n",
       "      <td>50</td>\n",
       "      <td>2021</td>\n",
       "      <td>4</td>\n",
       "      <td>14</td>\n",
       "      <td>5</td>\n",
       "    </tr>\n",
       "    <tr>\n",
       "      <th>5380</th>\n",
       "      <td>2021-04-11</td>\n",
       "      <td>1</td>\n",
       "      <td>60</td>\n",
       "      <td>60</td>\n",
       "      <td>2021</td>\n",
       "      <td>4</td>\n",
       "      <td>14</td>\n",
       "      <td>6</td>\n",
       "    </tr>\n",
       "    <tr>\n",
       "      <th>5383</th>\n",
       "      <td>2021-04-12</td>\n",
       "      <td>1</td>\n",
       "      <td>55</td>\n",
       "      <td>55</td>\n",
       "      <td>2021</td>\n",
       "      <td>4</td>\n",
       "      <td>15</td>\n",
       "      <td>0</td>\n",
       "    </tr>\n",
       "    <tr>\n",
       "      <th>5386</th>\n",
       "      <td>2021-04-13</td>\n",
       "      <td>1</td>\n",
       "      <td>55</td>\n",
       "      <td>55</td>\n",
       "      <td>2021</td>\n",
       "      <td>4</td>\n",
       "      <td>15</td>\n",
       "      <td>1</td>\n",
       "    </tr>\n",
       "    <tr>\n",
       "      <th>5389</th>\n",
       "      <td>2021-04-14</td>\n",
       "      <td>1</td>\n",
       "      <td>64</td>\n",
       "      <td>65</td>\n",
       "      <td>2021</td>\n",
       "      <td>4</td>\n",
       "      <td>15</td>\n",
       "      <td>2</td>\n",
       "    </tr>\n",
       "  </tbody>\n",
       "</table>\n",
       "<p>993 rows × 8 columns</p>\n",
       "</div>"
      ],
      "text/plain": [
       "        Sold_On  Article_Number  Amount_Sold  Amount_Delivered  Year  Month  \\\n",
       "0    2012-01-16               1            9                20  2012      1   \n",
       "1    2012-01-17               1           14                20  2012      1   \n",
       "2    2012-01-18               1           29                30  2012      1   \n",
       "3    2012-01-19               1           13                15  2012      1   \n",
       "4    2012-01-20               1           14                25  2012      1   \n",
       "...         ...             ...          ...               ...   ...    ...   \n",
       "5377 2021-04-10               1           48                50  2021      4   \n",
       "5380 2021-04-11               1           60                60  2021      4   \n",
       "5383 2021-04-12               1           55                55  2021      4   \n",
       "5386 2021-04-13               1           55                55  2021      4   \n",
       "5389 2021-04-14               1           64                65  2021      4   \n",
       "\n",
       "      Week  Day  \n",
       "0        3    0  \n",
       "1        3    1  \n",
       "2        3    2  \n",
       "3        3    3  \n",
       "4        3    4  \n",
       "...    ...  ...  \n",
       "5377    14    5  \n",
       "5380    14    6  \n",
       "5383    15    0  \n",
       "5386    15    1  \n",
       "5389    15    2  \n",
       "\n",
       "[993 rows x 8 columns]"
      ]
     },
     "execution_count": 3,
     "metadata": {},
     "output_type": "execute_result"
    }
   ],
   "source": [
    "# Import data\n",
    "df = pd.read_csv('../data/meteolytix_Saisonlogik_2021.csv', sep=';')\n",
    "df.drop(columns=['Branch Number'], inplace=True)\n",
    "df.columns = df.columns.str.replace(' ','_')\n",
    "\n",
    "# Convert timestamp to datetime object\n",
    "df['Sold_On']=pd.to_datetime(df['Sold_On'])\n",
    "# Extract additional features from timestamp column\n",
    "df = df.assign( \n",
    "    Year  = lambda x: x['Sold_On'].dt.year,\n",
    "    Month = lambda x: x['Sold_On'].dt.month,\n",
    "    Week  = lambda x: x['Sold_On'].dt.isocalendar().week,\n",
    "    Day   = lambda x: x['Sold_On'].dt.dayofweek)\n",
    "\n",
    "df[\"Amount_Sold\"]=df[\"Amount_Sold\"].str.replace(',','.')\n",
    "df['Amount_Sold'] = pd.to_numeric(df['Amount_Sold'], errors='coerce')\n",
    "df['Amount_Sold'] = df['Amount_Sold'].astype(int)\n",
    "\n",
    "df=df.replace({'Amount_Delivered': {8224: 28}})\n",
    "df=df.sort_values(by='Sold_On')\n",
    "df=df.loc[df['Article_Number']==1]\n",
    "df"
   ]
  },
  {
   "cell_type": "code",
   "execution_count": 4,
   "id": "74438af6",
   "metadata": {},
   "outputs": [
    {
     "data": {
      "image/png": "[encoded data removed]",
      "text/plain": [
       "<Figure size 1500x500 with 1 Axes>"
      ]
     },
     "metadata": {
      "needs_background": "light"
     },
     "output_type": "display_data"
    }
   ],
   "source": [
    "#setting easter holidays\n",
    "holidays = pd.DataFrame({\n",
    "  'holiday': 'Ostertage',\n",
    "  'ds': pd.to_datetime([ '2012-04-04','2012-04-05','2012-04-06','2012-04-07','2012-04-08', \n",
    "                         '2013-03-27','2013-03-28','2013-03-29','2013-03-30','2013-03-31', \n",
    "                         '2014-04-16','2014-04-17','2014-04-18','2014-04-19','2014-04-20', \n",
    "                         '2015-04-01','2015-04-02','2015-04-03','2015-04-04','2015-04-05', \n",
    "                         '2016-03-23','2016-03-24','2016-03-25','2016-03-26','2016-03-27', \n",
    "                         '2017-04-12','2017-04-13','2017-04-14','2017-04-15','2017-04-16', \n",
    "                         '2018-03-28','2018-03-29','2018-03-30','2018-03-31','2018-04-01', \n",
    "                         '2019-04-17','2019-04-18','2019-04-19','2019-04-20','2019-04-21', \n",
    "                         '2020-04-03','2020-04-04','2020-04-05','2020-04-06','2020-04-07', \n",
    "                         '2021-03-31','2021-04-01','2021-04-02','2021-04-03','2021-04-04', \n",
    "                         '2022-04-13','2022-04-14','2022-04-15','2022-04-16','2022-04-17']),\n",
    "  'lower_window': 0,\n",
    "  'upper_window': 1,\n",
    "})\n",
    "\n",
    "#imputing missing time periods with zeros\n",
    "df = df.rename(columns={'Sold_On':'ds', 'Amount_Sold':'y'})\n",
    "df.set_index(df.ds, inplace=True)\n",
    "df_resampled=df.resample('D').sum().fillna(0)\n",
    "plt.plot(df_resampled.index,df_resampled.y)\n",
    "df_resampled=df_resampled.reset_index()"
   ]
  },
  {
   "cell_type": "markdown",
   "id": "8d0f175a",
   "metadata": {},
   "source": [
    "## Prediction of 2021 with holidays"
   ]
  },
  {
   "cell_type": "code",
   "execution_count": 5,
   "id": "2c6ebc3d",
   "metadata": {},
   "outputs": [
    {
     "name": "stderr",
     "output_type": "stream",
     "text": [
      "INFO:fbprophet:Disabling daily seasonality. Run prophet with daily_seasonality=True to override this.\n"
     ]
    },
    {
     "data": {
      "text/plain": [
       "13.902308407276047"
      ]
     },
     "execution_count": 5,
     "metadata": {},
     "output_type": "execute_result"
    }
   ],
   "source": [
    "#train-test-split & Format data for prophet model using ds and y\n",
    "#df = df.rename(columns={'Sold_On':'ds', 'Amount_Sold':'y'})\n",
    "split_date = '2021-01-01'\n",
    "train = df_resampled.loc[df_resampled.ds <= split_date].copy()\n",
    "test = df_resampled.loc[df_resampled.ds > split_date].copy()\n",
    "df_train = train[['ds', 'y']]\n",
    "df_test = test[['ds']]\n",
    "\n",
    "# Fitting a Prophet model\n",
    "model = Prophet(holidays=holidays)\n",
    "#model.add_country_holidays(country_name='Germany')\n",
    "model.fit(df_train)\n",
    "prediction = model.predict(df_test)\n",
    "\n",
    "#define period for which we want to forecast\n",
    "#one year future forecast period (daily predictions)\n",
    "index_1_year=pd.date_range(df_resampled['ds'].iloc[-1],freq='D',periods=365)\n",
    "df_index_1_year=pd.DataFrame(index_1_year)\n",
    "df_index_1_year.columns=['ds']\n",
    "df_index_1_year['ds']=pd.to_datetime(df_index_1_year['ds'])\n",
    "fcast=model.predict(df_index_1_year)\n",
    "\n",
    "mean_absolute_error(test.y,prediction.yhat)"
   ]
  },
  {
   "cell_type": "markdown",
   "id": "ec926eee",
   "metadata": {},
   "source": [
    "## Prediction without 2012/2013/2020"
   ]
  },
  {
   "cell_type": "code",
   "execution_count": 28,
   "id": "c9d3b88c",
   "metadata": {},
   "outputs": [
    {
     "name": "stderr",
     "output_type": "stream",
     "text": [
      "INFO:fbprophet:Disabling daily seasonality. Run prophet with daily_seasonality=True to override this.\n"
     ]
    }
   ],
   "source": [
    "#train-test-split & Format data for prophet model using ds and y\n",
    "#df = df.rename(columns={'Sold_On':'ds', 'Amount_Sold':'y'})\n",
    "data1 = (df_resampled['ds'] >= '2012-01-01') & (df_resampled['ds'] <= '2019-12-31')\n",
    "data2 = (df_resampled['ds'] >= '2021-01-01') & (df_resampled['ds'] <= '2021-05-30')\n",
    "data1 = df_resampled.loc[data1]\n",
    "data2 = df_resampled.loc[data2]\n",
    "data = pd.concat([data1,data2])\n",
    "data = data[data['ds'] >= '2014-01-01']\n",
    "\n",
    "split_date = '2021-01-01'\n",
    "train = data.loc[data.ds <= split_date].copy()\n",
    "test = data.loc[data.ds > split_date].copy()\n",
    "df_train = train[['ds', 'y']]\n",
    "df_test = test[['ds']]\n",
    "\n",
    "# Fitting a Prophet model\n",
    "model = Prophet(holidays=holidays)\n",
    "#model.add_country_holidays(country_name='Germany')\n",
    "model.fit(df_train)\n",
    "prediction = model.predict(df_test)\n",
    "\n",
    "#define period for which we want to forecast\n",
    "#one year future forecast period (daily predictions)\n",
    "index_1_year=pd.date_range(df_resampled['ds'].iloc[-1],freq='D',periods=730)\n",
    "df_index_1_year=pd.DataFrame(index_1_year)\n",
    "df_index_1_year.columns=['ds']\n",
    "df_index_1_year['ds']=pd.to_datetime(df_index_1_year['ds'])\n",
    "fcast=model.predict(df_index_1_year)"
   ]
  },
  {
   "cell_type": "code",
   "execution_count": 29,
   "id": "9ec08689",
   "metadata": {},
   "outputs": [
    {
     "data": {
      "text/plain": [
       "13.254599663708857"
      ]
     },
     "execution_count": 29,
     "metadata": {},
     "output_type": "execute_result"
    },
    {
     "data": {
      "image/png": "[encoded data removed]",
      "text/plain": [
       "<Figure size 1500x500 with 1 Axes>"
      ]
     },
     "metadata": {
      "needs_background": "light"
     },
     "output_type": "display_data"
    }
   ],
   "source": [
    "test = test.assign(YearDay=lambda x: x['ds'].dt.dayofyear)\n",
    "test_2021 = test[['y', 'ds']]\n",
    "test_2021 = test_2021.set_index('ds').sort_index()\n",
    "\n",
    "prediction = prediction.assign(YearDay=lambda x: x['ds'].dt.dayofyear)\n",
    "prediction_2021 = prediction[['yhat', 'ds']]\n",
    "prediction_2021 = prediction_2021.set_index('ds').sort_index()\n",
    "\n",
    "result_2021 = pd.concat([test_2021, prediction_2021], axis=1)\n",
    "fmt_half_year = mdates.WeekdayLocator(byweekday=0,interval=1)\n",
    "ax = result_2021.plot.bar(rot=45, width=0.8)\n",
    "ax.xaxis.set_major_locator(fmt_half_year)\n",
    "ax.xaxis.set_major_formatter(mdates.DateFormatter('%2021-%m-%d'))\n",
    "plt.xlabel('Date')\n",
    "plt.ylabel('Sales Amount')\n",
    "plt.xlim([0,105])\n",
    "plt.ylim([0,200])\n",
    "plt.xticks(rotation=45)\n",
    "plt.gca().legend(('actual','prediction'))\n",
    "plt.title(\"Actual vs prediction sales 2021 Osterpinze\")\n",
    "mean_absolute_error(test.y,prediction.yhat)"
   ]
  },
  {
   "cell_type": "markdown",
   "id": "3baa9d9f",
   "metadata": {},
   "source": [
    "## HyperParameter Tuning using ParameterGrid"
   ]
  },
  {
   "cell_type": "code",
   "execution_count": 8,
   "id": "732fccaf",
   "metadata": {},
   "outputs": [
    {
     "name": "stdout",
     "output_type": "stream",
     "text": [
      "Total Possible Models 150\n"
     ]
    }
   ],
   "source": [
    "params_grid = {'seasonality_mode':('multiplicative','additive'),\n",
    "               'changepoint_prior_scale':[0.1,0.2,0.3,0.4,0.5],\n",
    "              'holidays_prior_scale':[0.1,0.2,0.3,0.4,0.5],\n",
    "              'n_changepoints' : [100,150,200]}\n",
    "grid = ParameterGrid(params_grid)\n",
    "cnt = 0\n",
    "for p in grid:\n",
    "    cnt = cnt+1\n",
    "\n",
    "print('Total Possible Models',cnt)"
   ]
  },
  {
   "cell_type": "code",
   "execution_count": 9,
   "id": "b90796ca",
   "metadata": {},
   "outputs": [
    {
     "name": "stderr",
     "output_type": "stream",
     "text": [
      "INFO:fbprophet:Disabling daily seasonality. Run prophet with daily_seasonality=True to override this.\n"
     ]
    },
    {
     "name": "stdout",
     "output_type": "stream",
     "text": [
      "{'changepoint_prior_scale': 0.1, 'holidays_prior_scale': 0.1, 'n_changepoints': 100, 'seasonality_mode': 'multiplicative'}\n"
     ]
    },
    {
     "name": "stderr",
     "output_type": "stream",
     "text": [
      "INFO:fbprophet:Disabling daily seasonality. Run prophet with daily_seasonality=True to override this.\n"
     ]
    },
    {
     "name": "stdout",
     "output_type": "stream",
     "text": [
      "Mean Absolute Error(MAE)------------------------------------ 118.69618303024005\n",
      "{'changepoint_prior_scale': 0.1, 'holidays_prior_scale': 0.1, 'n_changepoints': 100, 'seasonality_mode': 'additive'}\n"
     ]
    },
    {
     "name": "stderr",
     "output_type": "stream",
     "text": [
      "INFO:fbprophet:Disabling daily seasonality. Run prophet with daily_seasonality=True to override this.\n"
     ]
    },
    {
     "name": "stdout",
     "output_type": "stream",
     "text": [
      "Mean Absolute Error(MAE)------------------------------------ 14.3407074150637\n",
      "{'changepoint_prior_scale': 0.1, 'holidays_prior_scale': 0.1, 'n_changepoints': 150, 'seasonality_mode': 'multiplicative'}\n"
     ]
    },
    {
     "name": "stderr",
     "output_type": "stream",
     "text": [
      "INFO:fbprophet:Disabling daily seasonality. Run prophet with daily_seasonality=True to override this.\n"
     ]
    },
    {
     "name": "stdout",
     "output_type": "stream",
     "text": [
      "Mean Absolute Error(MAE)------------------------------------ 112.42979883290486\n",
      "{'changepoint_prior_scale': 0.1, 'holidays_prior_scale': 0.1, 'n_changepoints': 150, 'seasonality_mode': 'additive'}\n"
     ]
    },
    {
     "name": "stderr",
     "output_type": "stream",
     "text": [
      "INFO:fbprophet:Disabling daily seasonality. Run prophet with daily_seasonality=True to override this.\n"
     ]
    },
    {
     "name": "stdout",
     "output_type": "stream",
     "text": [
      "Mean Absolute Error(MAE)------------------------------------ 14.35187391104112\n",
      "{'changepoint_prior_scale': 0.1, 'holidays_prior_scale': 0.1, 'n_changepoints': 200, 'seasonality_mode': 'multiplicative'}\n"
     ]
    },
    {
     "name": "stderr",
     "output_type": "stream",
     "text": [
      "INFO:fbprophet:Disabling daily seasonality. Run prophet with daily_seasonality=True to override this.\n"
     ]
    },
    {
     "name": "stdout",
     "output_type": "stream",
     "text": [
      "Mean Absolute Error(MAE)------------------------------------ 110.9553413768792\n",
      "{'changepoint_prior_scale': 0.1, 'holidays_prior_scale': 0.1, 'n_changepoints': 200, 'seasonality_mode': 'additive'}\n"
     ]
    },
    {
     "name": "stderr",
     "output_type": "stream",
     "text": [
      "INFO:fbprophet:Disabling daily seasonality. Run prophet with daily_seasonality=True to override this.\n"
     ]
    },
    {
     "name": "stdout",
     "output_type": "stream",
     "text": [
      "Mean Absolute Error(MAE)------------------------------------ 14.359639714944176\n",
      "{'changepoint_prior_scale': 0.1, 'holidays_prior_scale': 0.2, 'n_changepoints': 100, 'seasonality_mode': 'multiplicative'}\n"
     ]
    },
    {
     "name": "stderr",
     "output_type": "stream",
     "text": [
      "INFO:fbprophet:Disabling daily seasonality. Run prophet with daily_seasonality=True to override this.\n"
     ]
    },
    {
     "name": "stdout",
     "output_type": "stream",
     "text": [
      "Mean Absolute Error(MAE)------------------------------------ 110.07827094292271\n",
      "{'changepoint_prior_scale': 0.1, 'holidays_prior_scale': 0.2, 'n_changepoints': 100, 'seasonality_mode': 'additive'}\n"
     ]
    },
    {
     "name": "stderr",
     "output_type": "stream",
     "text": [
      "INFO:fbprophet:Disabling daily seasonality. Run prophet with daily_seasonality=True to override this.\n"
     ]
    },
    {
     "name": "stdout",
     "output_type": "stream",
     "text": [
      "Mean Absolute Error(MAE)------------------------------------ 14.377071987670627\n",
      "{'changepoint_prior_scale': 0.1, 'holidays_prior_scale': 0.2, 'n_changepoints': 150, 'seasonality_mode': 'multiplicative'}\n"
     ]
    },
    {
     "name": "stderr",
     "output_type": "stream",
     "text": [
      "INFO:fbprophet:Disabling daily seasonality. Run prophet with daily_seasonality=True to override this.\n"
     ]
    },
    {
     "name": "stdout",
     "output_type": "stream",
     "text": [
      "Mean Absolute Error(MAE)------------------------------------ 106.95023418302485\n",
      "{'changepoint_prior_scale': 0.1, 'holidays_prior_scale': 0.2, 'n_changepoints': 150, 'seasonality_mode': 'additive'}\n"
     ]
    },
    {
     "name": "stderr",
     "output_type": "stream",
     "text": [
      "INFO:fbprophet:Disabling daily seasonality. Run prophet with daily_seasonality=True to override this.\n"
     ]
    },
    {
     "name": "stdout",
     "output_type": "stream",
     "text": [
      "Mean Absolute Error(MAE)------------------------------------ 14.416944307260945\n",
      "{'changepoint_prior_scale': 0.1, 'holidays_prior_scale': 0.2, 'n_changepoints': 200, 'seasonality_mode': 'multiplicative'}\n"
     ]
    },
    {
     "name": "stderr",
     "output_type": "stream",
     "text": [
      "INFO:fbprophet:Disabling daily seasonality. Run prophet with daily_seasonality=True to override this.\n"
     ]
    },
    {
     "name": "stdout",
     "output_type": "stream",
     "text": [
      "Mean Absolute Error(MAE)------------------------------------ 103.28121027262442\n",
      "{'changepoint_prior_scale': 0.1, 'holidays_prior_scale': 0.2, 'n_changepoints': 200, 'seasonality_mode': 'additive'}\n"
     ]
    },
    {
     "name": "stderr",
     "output_type": "stream",
     "text": [
      "INFO:fbprophet:Disabling daily seasonality. Run prophet with daily_seasonality=True to override this.\n"
     ]
    },
    {
     "name": "stdout",
     "output_type": "stream",
     "text": [
      "Mean Absolute Error(MAE)------------------------------------ 14.423285558756074\n",
      "{'changepoint_prior_scale': 0.1, 'holidays_prior_scale': 0.3, 'n_changepoints': 100, 'seasonality_mode': 'multiplicative'}\n"
     ]
    },
    {
     "name": "stderr",
     "output_type": "stream",
     "text": [
      "INFO:fbprophet:Disabling daily seasonality. Run prophet with daily_seasonality=True to override this.\n"
     ]
    },
    {
     "name": "stdout",
     "output_type": "stream",
     "text": [
      "Mean Absolute Error(MAE)------------------------------------ 102.65047066331826\n",
      "{'changepoint_prior_scale': 0.1, 'holidays_prior_scale': 0.3, 'n_changepoints': 100, 'seasonality_mode': 'additive'}\n"
     ]
    },
    {
     "name": "stderr",
     "output_type": "stream",
     "text": [
      "INFO:fbprophet:Disabling daily seasonality. Run prophet with daily_seasonality=True to override this.\n"
     ]
    },
    {
     "name": "stdout",
     "output_type": "stream",
     "text": [
      "Mean Absolute Error(MAE)------------------------------------ 14.443461591494447\n",
      "{'changepoint_prior_scale': 0.1, 'holidays_prior_scale': 0.3, 'n_changepoints': 150, 'seasonality_mode': 'multiplicative'}\n"
     ]
    },
    {
     "name": "stderr",
     "output_type": "stream",
     "text": [
      "INFO:fbprophet:Disabling daily seasonality. Run prophet with daily_seasonality=True to override this.\n"
     ]
    },
    {
     "name": "stdout",
     "output_type": "stream",
     "text": [
      "Mean Absolute Error(MAE)------------------------------------ 103.61397582101581\n",
      "{'changepoint_prior_scale': 0.1, 'holidays_prior_scale': 0.3, 'n_changepoints': 150, 'seasonality_mode': 'additive'}\n"
     ]
    },
    {
     "name": "stderr",
     "output_type": "stream",
     "text": [
      "INFO:fbprophet:Disabling daily seasonality. Run prophet with daily_seasonality=True to override this.\n"
     ]
    },
    {
     "name": "stdout",
     "output_type": "stream",
     "text": [
      "Mean Absolute Error(MAE)------------------------------------ 14.436198747129463\n",
      "{'changepoint_prior_scale': 0.1, 'holidays_prior_scale': 0.3, 'n_changepoints': 200, 'seasonality_mode': 'multiplicative'}\n"
     ]
    },
    {
     "name": "stderr",
     "output_type": "stream",
     "text": [
      "INFO:fbprophet:Disabling daily seasonality. Run prophet with daily_seasonality=True to override this.\n"
     ]
    },
    {
     "name": "stdout",
     "output_type": "stream",
     "text": [
      "Mean Absolute Error(MAE)------------------------------------ 100.36124528060054\n",
      "{'changepoint_prior_scale': 0.1, 'holidays_prior_scale': 0.3, 'n_changepoints': 200, 'seasonality_mode': 'additive'}\n"
     ]
    },
    {
     "name": "stderr",
     "output_type": "stream",
     "text": [
      "INFO:fbprophet:Disabling daily seasonality. Run prophet with daily_seasonality=True to override this.\n"
     ]
    },
    {
     "name": "stdout",
     "output_type": "stream",
     "text": [
      "Mean Absolute Error(MAE)------------------------------------ 14.422819747260252\n",
      "{'changepoint_prior_scale': 0.1, 'holidays_prior_scale': 0.4, 'n_changepoints': 100, 'seasonality_mode': 'multiplicative'}\n"
     ]
    },
    {
     "name": "stderr",
     "output_type": "stream",
     "text": [
      "INFO:fbprophet:Disabling daily seasonality. Run prophet with daily_seasonality=True to override this.\n"
     ]
    },
    {
     "name": "stdout",
     "output_type": "stream",
     "text": [
      "Mean Absolute Error(MAE)------------------------------------ 102.0002951677604\n",
      "{'changepoint_prior_scale': 0.1, 'holidays_prior_scale': 0.4, 'n_changepoints': 100, 'seasonality_mode': 'additive'}\n"
     ]
    },
    {
     "name": "stderr",
     "output_type": "stream",
     "text": [
      "INFO:fbprophet:Disabling daily seasonality. Run prophet with daily_seasonality=True to override this.\n"
     ]
    },
    {
     "name": "stdout",
     "output_type": "stream",
     "text": [
      "Mean Absolute Error(MAE)------------------------------------ 14.430299495989837\n",
      "{'changepoint_prior_scale': 0.1, 'holidays_prior_scale': 0.4, 'n_changepoints': 150, 'seasonality_mode': 'multiplicative'}\n"
     ]
    },
    {
     "name": "stderr",
     "output_type": "stream",
     "text": [
      "INFO:fbprophet:Disabling daily seasonality. Run prophet with daily_seasonality=True to override this.\n"
     ]
    },
    {
     "name": "stdout",
     "output_type": "stream",
     "text": [
      "Mean Absolute Error(MAE)------------------------------------ 99.2817040660805\n",
      "{'changepoint_prior_scale': 0.1, 'holidays_prior_scale': 0.4, 'n_changepoints': 150, 'seasonality_mode': 'additive'}\n"
     ]
    },
    {
     "name": "stderr",
     "output_type": "stream",
     "text": [
      "INFO:fbprophet:Disabling daily seasonality. Run prophet with daily_seasonality=True to override this.\n"
     ]
    },
    {
     "name": "stdout",
     "output_type": "stream",
     "text": [
      "Mean Absolute Error(MAE)------------------------------------ 14.44233611528564\n",
      "{'changepoint_prior_scale': 0.1, 'holidays_prior_scale': 0.4, 'n_changepoints': 200, 'seasonality_mode': 'multiplicative'}\n"
     ]
    },
    {
     "name": "stderr",
     "output_type": "stream",
     "text": [
      "INFO:fbprophet:Disabling daily seasonality. Run prophet with daily_seasonality=True to override this.\n"
     ]
    },
    {
     "name": "stdout",
     "output_type": "stream",
     "text": [
      "Mean Absolute Error(MAE)------------------------------------ 96.7028303624168\n",
      "{'changepoint_prior_scale': 0.1, 'holidays_prior_scale': 0.4, 'n_changepoints': 200, 'seasonality_mode': 'additive'}\n"
     ]
    },
    {
     "name": "stderr",
     "output_type": "stream",
     "text": [
      "INFO:fbprophet:Disabling daily seasonality. Run prophet with daily_seasonality=True to override this.\n"
     ]
    },
    {
     "name": "stdout",
     "output_type": "stream",
     "text": [
      "Mean Absolute Error(MAE)------------------------------------ 14.414345258100681\n",
      "{'changepoint_prior_scale': 0.1, 'holidays_prior_scale': 0.5, 'n_changepoints': 100, 'seasonality_mode': 'multiplicative'}\n"
     ]
    },
    {
     "name": "stderr",
     "output_type": "stream",
     "text": [
      "INFO:fbprophet:Disabling daily seasonality. Run prophet with daily_seasonality=True to override this.\n"
     ]
    },
    {
     "name": "stdout",
     "output_type": "stream",
     "text": [
      "Mean Absolute Error(MAE)------------------------------------ 99.8897550108636\n",
      "{'changepoint_prior_scale': 0.1, 'holidays_prior_scale': 0.5, 'n_changepoints': 100, 'seasonality_mode': 'additive'}\n"
     ]
    },
    {
     "name": "stderr",
     "output_type": "stream",
     "text": [
      "INFO:fbprophet:Disabling daily seasonality. Run prophet with daily_seasonality=True to override this.\n"
     ]
    },
    {
     "name": "stdout",
     "output_type": "stream",
     "text": [
      "Mean Absolute Error(MAE)------------------------------------ 14.429350455696838\n",
      "{'changepoint_prior_scale': 0.1, 'holidays_prior_scale': 0.5, 'n_changepoints': 150, 'seasonality_mode': 'multiplicative'}\n"
     ]
    },
    {
     "name": "stderr",
     "output_type": "stream",
     "text": [
      "INFO:fbprophet:Disabling daily seasonality. Run prophet with daily_seasonality=True to override this.\n"
     ]
    },
    {
     "name": "stdout",
     "output_type": "stream",
     "text": [
      "Mean Absolute Error(MAE)------------------------------------ 96.66920039327483\n",
      "{'changepoint_prior_scale': 0.1, 'holidays_prior_scale': 0.5, 'n_changepoints': 150, 'seasonality_mode': 'additive'}\n"
     ]
    },
    {
     "name": "stderr",
     "output_type": "stream",
     "text": [
      "INFO:fbprophet:Disabling daily seasonality. Run prophet with daily_seasonality=True to override this.\n"
     ]
    },
    {
     "name": "stdout",
     "output_type": "stream",
     "text": [
      "Mean Absolute Error(MAE)------------------------------------ 14.424292848734197\n",
      "{'changepoint_prior_scale': 0.1, 'holidays_prior_scale': 0.5, 'n_changepoints': 200, 'seasonality_mode': 'multiplicative'}\n"
     ]
    },
    {
     "name": "stderr",
     "output_type": "stream",
     "text": [
      "INFO:fbprophet:Disabling daily seasonality. Run prophet with daily_seasonality=True to override this.\n"
     ]
    },
    {
     "name": "stdout",
     "output_type": "stream",
     "text": [
      "Mean Absolute Error(MAE)------------------------------------ 97.53325567845197\n",
      "{'changepoint_prior_scale': 0.1, 'holidays_prior_scale': 0.5, 'n_changepoints': 200, 'seasonality_mode': 'additive'}\n"
     ]
    },
    {
     "name": "stderr",
     "output_type": "stream",
     "text": [
      "INFO:fbprophet:Disabling daily seasonality. Run prophet with daily_seasonality=True to override this.\n"
     ]
    },
    {
     "name": "stdout",
     "output_type": "stream",
     "text": [
      "Mean Absolute Error(MAE)------------------------------------ 14.435519570731572\n",
      "{'changepoint_prior_scale': 0.2, 'holidays_prior_scale': 0.1, 'n_changepoints': 100, 'seasonality_mode': 'multiplicative'}\n",
      "Mean Absolute Error(MAE)------------------------------------ 228.589892470174\n",
      "{'changepoint_prior_scale': 0.2, 'holidays_prior_scale': 0.1, 'n_changepoints': 100, 'seasonality_mode': 'additive'}\n"
     ]
    },
    {
     "name": "stderr",
     "output_type": "stream",
     "text": [
      "INFO:fbprophet:Disabling daily seasonality. Run prophet with daily_seasonality=True to override this.\n",
      "INFO:fbprophet:Disabling daily seasonality. Run prophet with daily_seasonality=True to override this.\n"
     ]
    },
    {
     "name": "stdout",
     "output_type": "stream",
     "text": [
      "Mean Absolute Error(MAE)------------------------------------ 13.458063229193485\n",
      "{'changepoint_prior_scale': 0.2, 'holidays_prior_scale': 0.1, 'n_changepoints': 150, 'seasonality_mode': 'multiplicative'}\n"
     ]
    },
    {
     "name": "stderr",
     "output_type": "stream",
     "text": [
      "INFO:fbprophet:Disabling daily seasonality. Run prophet with daily_seasonality=True to override this.\n"
     ]
    },
    {
     "name": "stdout",
     "output_type": "stream",
     "text": [
      "Mean Absolute Error(MAE)------------------------------------ 224.33745924059468\n",
      "{'changepoint_prior_scale': 0.2, 'holidays_prior_scale': 0.1, 'n_changepoints': 150, 'seasonality_mode': 'additive'}\n"
     ]
    },
    {
     "name": "stderr",
     "output_type": "stream",
     "text": [
      "INFO:fbprophet:Disabling daily seasonality. Run prophet with daily_seasonality=True to override this.\n"
     ]
    },
    {
     "name": "stdout",
     "output_type": "stream",
     "text": [
      "Mean Absolute Error(MAE)------------------------------------ 13.513448202181678\n",
      "{'changepoint_prior_scale': 0.2, 'holidays_prior_scale': 0.1, 'n_changepoints': 200, 'seasonality_mode': 'multiplicative'}\n"
     ]
    },
    {
     "name": "stderr",
     "output_type": "stream",
     "text": [
      "INFO:fbprophet:Disabling daily seasonality. Run prophet with daily_seasonality=True to override this.\n"
     ]
    },
    {
     "name": "stdout",
     "output_type": "stream",
     "text": [
      "Mean Absolute Error(MAE)------------------------------------ 215.9463123971182\n",
      "{'changepoint_prior_scale': 0.2, 'holidays_prior_scale': 0.1, 'n_changepoints': 200, 'seasonality_mode': 'additive'}\n"
     ]
    },
    {
     "name": "stderr",
     "output_type": "stream",
     "text": [
      "INFO:fbprophet:Disabling daily seasonality. Run prophet with daily_seasonality=True to override this.\n"
     ]
    },
    {
     "name": "stdout",
     "output_type": "stream",
     "text": [
      "Mean Absolute Error(MAE)------------------------------------ 13.529519115303456\n",
      "{'changepoint_prior_scale': 0.2, 'holidays_prior_scale': 0.2, 'n_changepoints': 100, 'seasonality_mode': 'multiplicative'}\n"
     ]
    },
    {
     "name": "stderr",
     "output_type": "stream",
     "text": [
      "INFO:fbprophet:Disabling daily seasonality. Run prophet with daily_seasonality=True to override this.\n"
     ]
    },
    {
     "name": "stdout",
     "output_type": "stream",
     "text": [
      "Mean Absolute Error(MAE)------------------------------------ 191.03917430734126\n",
      "{'changepoint_prior_scale': 0.2, 'holidays_prior_scale': 0.2, 'n_changepoints': 100, 'seasonality_mode': 'additive'}\n"
     ]
    },
    {
     "name": "stderr",
     "output_type": "stream",
     "text": [
      "INFO:fbprophet:Disabling daily seasonality. Run prophet with daily_seasonality=True to override this.\n"
     ]
    },
    {
     "name": "stdout",
     "output_type": "stream",
     "text": [
      "Mean Absolute Error(MAE)------------------------------------ 13.523957639801798\n",
      "{'changepoint_prior_scale': 0.2, 'holidays_prior_scale': 0.2, 'n_changepoints': 150, 'seasonality_mode': 'multiplicative'}\n",
      "Mean Absolute Error(MAE)------------------------------------ 185.90790372174493\n",
      "{'changepoint_prior_scale': 0.2, 'holidays_prior_scale': 0.2, 'n_changepoints': 150, 'seasonality_mode': 'additive'}\n"
     ]
    },
    {
     "name": "stderr",
     "output_type": "stream",
     "text": [
      "INFO:fbprophet:Disabling daily seasonality. Run prophet with daily_seasonality=True to override this.\n",
      "INFO:fbprophet:Disabling daily seasonality. Run prophet with daily_seasonality=True to override this.\n"
     ]
    },
    {
     "name": "stdout",
     "output_type": "stream",
     "text": [
      "Mean Absolute Error(MAE)------------------------------------ 13.51810754991864\n",
      "{'changepoint_prior_scale': 0.2, 'holidays_prior_scale': 0.2, 'n_changepoints': 200, 'seasonality_mode': 'multiplicative'}\n"
     ]
    },
    {
     "name": "stderr",
     "output_type": "stream",
     "text": [
      "INFO:fbprophet:Disabling daily seasonality. Run prophet with daily_seasonality=True to override this.\n"
     ]
    },
    {
     "name": "stdout",
     "output_type": "stream",
     "text": [
      "Mean Absolute Error(MAE)------------------------------------ 180.59567125329642\n",
      "{'changepoint_prior_scale': 0.2, 'holidays_prior_scale': 0.2, 'n_changepoints': 200, 'seasonality_mode': 'additive'}\n"
     ]
    },
    {
     "name": "stderr",
     "output_type": "stream",
     "text": [
      "INFO:fbprophet:Disabling daily seasonality. Run prophet with daily_seasonality=True to override this.\n"
     ]
    },
    {
     "name": "stdout",
     "output_type": "stream",
     "text": [
      "Mean Absolute Error(MAE)------------------------------------ 13.605914903596465\n",
      "{'changepoint_prior_scale': 0.2, 'holidays_prior_scale': 0.3, 'n_changepoints': 100, 'seasonality_mode': 'multiplicative'}\n"
     ]
    },
    {
     "name": "stderr",
     "output_type": "stream",
     "text": [
      "INFO:fbprophet:Disabling daily seasonality. Run prophet with daily_seasonality=True to override this.\n"
     ]
    },
    {
     "name": "stdout",
     "output_type": "stream",
     "text": [
      "Mean Absolute Error(MAE)------------------------------------ 163.7199257200836\n",
      "{'changepoint_prior_scale': 0.2, 'holidays_prior_scale': 0.3, 'n_changepoints': 100, 'seasonality_mode': 'additive'}\n"
     ]
    },
    {
     "name": "stderr",
     "output_type": "stream",
     "text": [
      "INFO:fbprophet:Disabling daily seasonality. Run prophet with daily_seasonality=True to override this.\n"
     ]
    },
    {
     "name": "stdout",
     "output_type": "stream",
     "text": [
      "Mean Absolute Error(MAE)------------------------------------ 13.50067051984402\n",
      "{'changepoint_prior_scale': 0.2, 'holidays_prior_scale': 0.3, 'n_changepoints': 150, 'seasonality_mode': 'multiplicative'}\n"
     ]
    },
    {
     "name": "stderr",
     "output_type": "stream",
     "text": [
      "INFO:fbprophet:Disabling daily seasonality. Run prophet with daily_seasonality=True to override this.\n"
     ]
    },
    {
     "name": "stdout",
     "output_type": "stream",
     "text": [
      "Mean Absolute Error(MAE)------------------------------------ 156.89222248301476\n",
      "{'changepoint_prior_scale': 0.2, 'holidays_prior_scale': 0.3, 'n_changepoints': 150, 'seasonality_mode': 'additive'}\n"
     ]
    },
    {
     "name": "stderr",
     "output_type": "stream",
     "text": [
      "INFO:fbprophet:Disabling daily seasonality. Run prophet with daily_seasonality=True to override this.\n"
     ]
    },
    {
     "name": "stdout",
     "output_type": "stream",
     "text": [
      "Mean Absolute Error(MAE)------------------------------------ 13.557636206423346\n",
      "{'changepoint_prior_scale': 0.2, 'holidays_prior_scale': 0.3, 'n_changepoints': 200, 'seasonality_mode': 'multiplicative'}\n"
     ]
    },
    {
     "name": "stderr",
     "output_type": "stream",
     "text": [
      "INFO:fbprophet:Disabling daily seasonality. Run prophet with daily_seasonality=True to override this.\n"
     ]
    },
    {
     "name": "stdout",
     "output_type": "stream",
     "text": [
      "Mean Absolute Error(MAE)------------------------------------ 157.00698614230944\n",
      "{'changepoint_prior_scale': 0.2, 'holidays_prior_scale': 0.3, 'n_changepoints': 200, 'seasonality_mode': 'additive'}\n"
     ]
    },
    {
     "name": "stderr",
     "output_type": "stream",
     "text": [
      "INFO:fbprophet:Disabling daily seasonality. Run prophet with daily_seasonality=True to override this.\n"
     ]
    },
    {
     "name": "stdout",
     "output_type": "stream",
     "text": [
      "Mean Absolute Error(MAE)------------------------------------ 13.511056919994456\n",
      "{'changepoint_prior_scale': 0.2, 'holidays_prior_scale': 0.4, 'n_changepoints': 100, 'seasonality_mode': 'multiplicative'}\n"
     ]
    },
    {
     "name": "stderr",
     "output_type": "stream",
     "text": [
      "INFO:fbprophet:Disabling daily seasonality. Run prophet with daily_seasonality=True to override this.\n"
     ]
    },
    {
     "name": "stdout",
     "output_type": "stream",
     "text": [
      "Mean Absolute Error(MAE)------------------------------------ 146.24935600345407\n",
      "{'changepoint_prior_scale': 0.2, 'holidays_prior_scale': 0.4, 'n_changepoints': 100, 'seasonality_mode': 'additive'}\n"
     ]
    },
    {
     "name": "stderr",
     "output_type": "stream",
     "text": [
      "INFO:fbprophet:Disabling daily seasonality. Run prophet with daily_seasonality=True to override this.\n"
     ]
    },
    {
     "name": "stdout",
     "output_type": "stream",
     "text": [
      "Mean Absolute Error(MAE)------------------------------------ 13.528023395461704\n",
      "{'changepoint_prior_scale': 0.2, 'holidays_prior_scale': 0.4, 'n_changepoints': 150, 'seasonality_mode': 'multiplicative'}\n"
     ]
    },
    {
     "name": "stderr",
     "output_type": "stream",
     "text": [
      "INFO:fbprophet:Disabling daily seasonality. Run prophet with daily_seasonality=True to override this.\n"
     ]
    },
    {
     "name": "stdout",
     "output_type": "stream",
     "text": [
      "Mean Absolute Error(MAE)------------------------------------ 148.70225785372273\n",
      "{'changepoint_prior_scale': 0.2, 'holidays_prior_scale': 0.4, 'n_changepoints': 150, 'seasonality_mode': 'additive'}\n"
     ]
    },
    {
     "name": "stderr",
     "output_type": "stream",
     "text": [
      "INFO:fbprophet:Disabling daily seasonality. Run prophet with daily_seasonality=True to override this.\n"
     ]
    },
    {
     "name": "stdout",
     "output_type": "stream",
     "text": [
      "Mean Absolute Error(MAE)------------------------------------ 13.60905468235093\n",
      "{'changepoint_prior_scale': 0.2, 'holidays_prior_scale': 0.4, 'n_changepoints': 200, 'seasonality_mode': 'multiplicative'}\n"
     ]
    },
    {
     "name": "stderr",
     "output_type": "stream",
     "text": [
      "INFO:fbprophet:Disabling daily seasonality. Run prophet with daily_seasonality=True to override this.\n"
     ]
    },
    {
     "name": "stdout",
     "output_type": "stream",
     "text": [
      "Mean Absolute Error(MAE)------------------------------------ 144.81338125642355\n",
      "{'changepoint_prior_scale': 0.2, 'holidays_prior_scale': 0.4, 'n_changepoints': 200, 'seasonality_mode': 'additive'}\n"
     ]
    },
    {
     "name": "stderr",
     "output_type": "stream",
     "text": [
      "INFO:fbprophet:Disabling daily seasonality. Run prophet with daily_seasonality=True to override this.\n"
     ]
    },
    {
     "name": "stdout",
     "output_type": "stream",
     "text": [
      "Mean Absolute Error(MAE)------------------------------------ 13.583920207627404\n",
      "{'changepoint_prior_scale': 0.2, 'holidays_prior_scale': 0.5, 'n_changepoints': 100, 'seasonality_mode': 'multiplicative'}\n"
     ]
    },
    {
     "name": "stderr",
     "output_type": "stream",
     "text": [
      "INFO:fbprophet:Disabling daily seasonality. Run prophet with daily_seasonality=True to override this.\n"
     ]
    },
    {
     "name": "stdout",
     "output_type": "stream",
     "text": [
      "Mean Absolute Error(MAE)------------------------------------ 142.83501353435625\n",
      "{'changepoint_prior_scale': 0.2, 'holidays_prior_scale': 0.5, 'n_changepoints': 100, 'seasonality_mode': 'additive'}\n"
     ]
    },
    {
     "name": "stderr",
     "output_type": "stream",
     "text": [
      "INFO:fbprophet:Disabling daily seasonality. Run prophet with daily_seasonality=True to override this.\n"
     ]
    },
    {
     "name": "stdout",
     "output_type": "stream",
     "text": [
      "Mean Absolute Error(MAE)------------------------------------ 13.52527433051592\n",
      "{'changepoint_prior_scale': 0.2, 'holidays_prior_scale': 0.5, 'n_changepoints': 150, 'seasonality_mode': 'multiplicative'}\n"
     ]
    },
    {
     "name": "stderr",
     "output_type": "stream",
     "text": [
      "INFO:fbprophet:Disabling daily seasonality. Run prophet with daily_seasonality=True to override this.\n"
     ]
    },
    {
     "name": "stdout",
     "output_type": "stream",
     "text": [
      "Mean Absolute Error(MAE)------------------------------------ 143.70933343447018\n",
      "{'changepoint_prior_scale': 0.2, 'holidays_prior_scale': 0.5, 'n_changepoints': 150, 'seasonality_mode': 'additive'}\n",
      "Mean Absolute Error(MAE)------------------------------------ 13.530767506604644\n",
      "{'changepoint_prior_scale': 0.2, 'holidays_prior_scale': 0.5, 'n_changepoints': 200, 'seasonality_mode': 'multiplicative'}\n"
     ]
    },
    {
     "name": "stderr",
     "output_type": "stream",
     "text": [
      "INFO:fbprophet:Disabling daily seasonality. Run prophet with daily_seasonality=True to override this.\n",
      "INFO:fbprophet:Disabling daily seasonality. Run prophet with daily_seasonality=True to override this.\n"
     ]
    },
    {
     "name": "stdout",
     "output_type": "stream",
     "text": [
      "Mean Absolute Error(MAE)------------------------------------ 136.5024879834631\n",
      "{'changepoint_prior_scale': 0.2, 'holidays_prior_scale': 0.5, 'n_changepoints': 200, 'seasonality_mode': 'additive'}\n"
     ]
    },
    {
     "name": "stderr",
     "output_type": "stream",
     "text": [
      "INFO:fbprophet:Disabling daily seasonality. Run prophet with daily_seasonality=True to override this.\n"
     ]
    },
    {
     "name": "stdout",
     "output_type": "stream",
     "text": [
      "Mean Absolute Error(MAE)------------------------------------ 13.591871226382354\n",
      "{'changepoint_prior_scale': 0.3, 'holidays_prior_scale': 0.1, 'n_changepoints': 100, 'seasonality_mode': 'multiplicative'}\n"
     ]
    },
    {
     "name": "stderr",
     "output_type": "stream",
     "text": [
      "INFO:fbprophet:Disabling daily seasonality. Run prophet with daily_seasonality=True to override this.\n"
     ]
    },
    {
     "name": "stdout",
     "output_type": "stream",
     "text": [
      "Mean Absolute Error(MAE)------------------------------------ 202.20116872082244\n",
      "{'changepoint_prior_scale': 0.3, 'holidays_prior_scale': 0.1, 'n_changepoints': 100, 'seasonality_mode': 'additive'}\n"
     ]
    },
    {
     "name": "stderr",
     "output_type": "stream",
     "text": [
      "INFO:fbprophet:Disabling daily seasonality. Run prophet with daily_seasonality=True to override this.\n"
     ]
    },
    {
     "name": "stdout",
     "output_type": "stream",
     "text": [
      "Mean Absolute Error(MAE)------------------------------------ 13.598734271101318\n",
      "{'changepoint_prior_scale': 0.3, 'holidays_prior_scale': 0.1, 'n_changepoints': 150, 'seasonality_mode': 'multiplicative'}\n"
     ]
    },
    {
     "name": "stderr",
     "output_type": "stream",
     "text": [
      "INFO:fbprophet:Disabling daily seasonality. Run prophet with daily_seasonality=True to override this.\n"
     ]
    },
    {
     "name": "stdout",
     "output_type": "stream",
     "text": [
      "Mean Absolute Error(MAE)------------------------------------ 201.21644327524106\n",
      "{'changepoint_prior_scale': 0.3, 'holidays_prior_scale': 0.1, 'n_changepoints': 150, 'seasonality_mode': 'additive'}\n"
     ]
    },
    {
     "name": "stderr",
     "output_type": "stream",
     "text": [
      "INFO:fbprophet:Disabling daily seasonality. Run prophet with daily_seasonality=True to override this.\n"
     ]
    },
    {
     "name": "stdout",
     "output_type": "stream",
     "text": [
      "Mean Absolute Error(MAE)------------------------------------ 13.677212179809887\n",
      "{'changepoint_prior_scale': 0.3, 'holidays_prior_scale': 0.1, 'n_changepoints': 200, 'seasonality_mode': 'multiplicative'}\n"
     ]
    },
    {
     "name": "stderr",
     "output_type": "stream",
     "text": [
      "INFO:fbprophet:Disabling daily seasonality. Run prophet with daily_seasonality=True to override this.\n"
     ]
    },
    {
     "name": "stdout",
     "output_type": "stream",
     "text": [
      "Mean Absolute Error(MAE)------------------------------------ 209.91892987725402\n",
      "{'changepoint_prior_scale': 0.3, 'holidays_prior_scale': 0.1, 'n_changepoints': 200, 'seasonality_mode': 'additive'}\n"
     ]
    },
    {
     "name": "stderr",
     "output_type": "stream",
     "text": [
      "INFO:fbprophet:Disabling daily seasonality. Run prophet with daily_seasonality=True to override this.\n"
     ]
    },
    {
     "name": "stdout",
     "output_type": "stream",
     "text": [
      "Mean Absolute Error(MAE)------------------------------------ 13.697707694784585\n",
      "{'changepoint_prior_scale': 0.3, 'holidays_prior_scale': 0.2, 'n_changepoints': 100, 'seasonality_mode': 'multiplicative'}\n"
     ]
    },
    {
     "name": "stderr",
     "output_type": "stream",
     "text": [
      "INFO:fbprophet:Disabling daily seasonality. Run prophet with daily_seasonality=True to override this.\n"
     ]
    },
    {
     "name": "stdout",
     "output_type": "stream",
     "text": [
      "Mean Absolute Error(MAE)------------------------------------ 181.0644174560819\n",
      "{'changepoint_prior_scale': 0.3, 'holidays_prior_scale': 0.2, 'n_changepoints': 100, 'seasonality_mode': 'additive'}\n"
     ]
    },
    {
     "name": "stderr",
     "output_type": "stream",
     "text": [
      "INFO:fbprophet:Disabling daily seasonality. Run prophet with daily_seasonality=True to override this.\n"
     ]
    },
    {
     "name": "stdout",
     "output_type": "stream",
     "text": [
      "Mean Absolute Error(MAE)------------------------------------ 13.6672029369869\n",
      "{'changepoint_prior_scale': 0.3, 'holidays_prior_scale': 0.2, 'n_changepoints': 150, 'seasonality_mode': 'multiplicative'}\n"
     ]
    },
    {
     "name": "stderr",
     "output_type": "stream",
     "text": [
      "INFO:fbprophet:Disabling daily seasonality. Run prophet with daily_seasonality=True to override this.\n"
     ]
    },
    {
     "name": "stdout",
     "output_type": "stream",
     "text": [
      "Mean Absolute Error(MAE)------------------------------------ 174.03678025020199\n",
      "{'changepoint_prior_scale': 0.3, 'holidays_prior_scale': 0.2, 'n_changepoints': 150, 'seasonality_mode': 'additive'}\n"
     ]
    },
    {
     "name": "stderr",
     "output_type": "stream",
     "text": [
      "INFO:fbprophet:Disabling daily seasonality. Run prophet with daily_seasonality=True to override this.\n"
     ]
    },
    {
     "name": "stdout",
     "output_type": "stream",
     "text": [
      "Mean Absolute Error(MAE)------------------------------------ 13.734680552295176\n",
      "{'changepoint_prior_scale': 0.3, 'holidays_prior_scale': 0.2, 'n_changepoints': 200, 'seasonality_mode': 'multiplicative'}\n"
     ]
    },
    {
     "name": "stderr",
     "output_type": "stream",
     "text": [
      "INFO:fbprophet:Disabling daily seasonality. Run prophet with daily_seasonality=True to override this.\n"
     ]
    },
    {
     "name": "stdout",
     "output_type": "stream",
     "text": [
      "Mean Absolute Error(MAE)------------------------------------ 178.77259398586367\n",
      "{'changepoint_prior_scale': 0.3, 'holidays_prior_scale': 0.2, 'n_changepoints': 200, 'seasonality_mode': 'additive'}\n"
     ]
    },
    {
     "name": "stderr",
     "output_type": "stream",
     "text": [
      "INFO:fbprophet:Disabling daily seasonality. Run prophet with daily_seasonality=True to override this.\n"
     ]
    },
    {
     "name": "stdout",
     "output_type": "stream",
     "text": [
      "Mean Absolute Error(MAE)------------------------------------ 13.74272572516109\n",
      "{'changepoint_prior_scale': 0.3, 'holidays_prior_scale': 0.3, 'n_changepoints': 100, 'seasonality_mode': 'multiplicative'}\n"
     ]
    },
    {
     "name": "stderr",
     "output_type": "stream",
     "text": [
      "INFO:fbprophet:Disabling daily seasonality. Run prophet with daily_seasonality=True to override this.\n"
     ]
    },
    {
     "name": "stdout",
     "output_type": "stream",
     "text": [
      "Mean Absolute Error(MAE)------------------------------------ 163.73406150421954\n",
      "{'changepoint_prior_scale': 0.3, 'holidays_prior_scale': 0.3, 'n_changepoints': 100, 'seasonality_mode': 'additive'}\n"
     ]
    },
    {
     "name": "stderr",
     "output_type": "stream",
     "text": [
      "INFO:fbprophet:Disabling daily seasonality. Run prophet with daily_seasonality=True to override this.\n"
     ]
    },
    {
     "name": "stdout",
     "output_type": "stream",
     "text": [
      "Mean Absolute Error(MAE)------------------------------------ 13.694198550526233\n",
      "{'changepoint_prior_scale': 0.3, 'holidays_prior_scale': 0.3, 'n_changepoints': 150, 'seasonality_mode': 'multiplicative'}\n"
     ]
    },
    {
     "name": "stderr",
     "output_type": "stream",
     "text": [
      "INFO:fbprophet:Disabling daily seasonality. Run prophet with daily_seasonality=True to override this.\n"
     ]
    },
    {
     "name": "stdout",
     "output_type": "stream",
     "text": [
      "Mean Absolute Error(MAE)------------------------------------ 160.3426208739678\n",
      "{'changepoint_prior_scale': 0.3, 'holidays_prior_scale': 0.3, 'n_changepoints': 150, 'seasonality_mode': 'additive'}\n"
     ]
    },
    {
     "name": "stderr",
     "output_type": "stream",
     "text": [
      "INFO:fbprophet:Disabling daily seasonality. Run prophet with daily_seasonality=True to override this.\n"
     ]
    },
    {
     "name": "stdout",
     "output_type": "stream",
     "text": [
      "Mean Absolute Error(MAE)------------------------------------ 13.758556668328552\n",
      "{'changepoint_prior_scale': 0.3, 'holidays_prior_scale': 0.3, 'n_changepoints': 200, 'seasonality_mode': 'multiplicative'}\n",
      "Mean Absolute Error(MAE)------------------------------------ 163.73583902201824\n",
      "{'changepoint_prior_scale': 0.3, 'holidays_prior_scale': 0.3, 'n_changepoints': 200, 'seasonality_mode': 'additive'}\n"
     ]
    },
    {
     "name": "stderr",
     "output_type": "stream",
     "text": [
      "INFO:fbprophet:Disabling daily seasonality. Run prophet with daily_seasonality=True to override this.\n",
      "INFO:fbprophet:Disabling daily seasonality. Run prophet with daily_seasonality=True to override this.\n"
     ]
    },
    {
     "name": "stdout",
     "output_type": "stream",
     "text": [
      "Mean Absolute Error(MAE)------------------------------------ 13.753425501536357\n",
      "{'changepoint_prior_scale': 0.3, 'holidays_prior_scale': 0.4, 'n_changepoints': 100, 'seasonality_mode': 'multiplicative'}\n"
     ]
    },
    {
     "name": "stderr",
     "output_type": "stream",
     "text": [
      "INFO:fbprophet:Disabling daily seasonality. Run prophet with daily_seasonality=True to override this.\n"
     ]
    },
    {
     "name": "stdout",
     "output_type": "stream",
     "text": [
      "Mean Absolute Error(MAE)------------------------------------ 152.12012333634885\n",
      "{'changepoint_prior_scale': 0.3, 'holidays_prior_scale': 0.4, 'n_changepoints': 100, 'seasonality_mode': 'additive'}\n"
     ]
    },
    {
     "name": "stderr",
     "output_type": "stream",
     "text": [
      "INFO:fbprophet:Disabling daily seasonality. Run prophet with daily_seasonality=True to override this.\n"
     ]
    },
    {
     "name": "stdout",
     "output_type": "stream",
     "text": [
      "Mean Absolute Error(MAE)------------------------------------ 13.678986590784525\n",
      "{'changepoint_prior_scale': 0.3, 'holidays_prior_scale': 0.4, 'n_changepoints': 150, 'seasonality_mode': 'multiplicative'}\n"
     ]
    },
    {
     "name": "stderr",
     "output_type": "stream",
     "text": [
      "INFO:fbprophet:Disabling daily seasonality. Run prophet with daily_seasonality=True to override this.\n"
     ]
    },
    {
     "name": "stdout",
     "output_type": "stream",
     "text": [
      "Mean Absolute Error(MAE)------------------------------------ 154.5736667032763\n",
      "{'changepoint_prior_scale': 0.3, 'holidays_prior_scale': 0.4, 'n_changepoints': 150, 'seasonality_mode': 'additive'}\n"
     ]
    },
    {
     "name": "stderr",
     "output_type": "stream",
     "text": [
      "INFO:fbprophet:Disabling daily seasonality. Run prophet with daily_seasonality=True to override this.\n"
     ]
    },
    {
     "name": "stdout",
     "output_type": "stream",
     "text": [
      "Mean Absolute Error(MAE)------------------------------------ 13.766017471347054\n",
      "{'changepoint_prior_scale': 0.3, 'holidays_prior_scale': 0.4, 'n_changepoints': 200, 'seasonality_mode': 'multiplicative'}\n"
     ]
    },
    {
     "name": "stderr",
     "output_type": "stream",
     "text": [
      "INFO:fbprophet:Disabling daily seasonality. Run prophet with daily_seasonality=True to override this.\n"
     ]
    },
    {
     "name": "stdout",
     "output_type": "stream",
     "text": [
      "Mean Absolute Error(MAE)------------------------------------ 153.71750916143546\n",
      "{'changepoint_prior_scale': 0.3, 'holidays_prior_scale': 0.4, 'n_changepoints': 200, 'seasonality_mode': 'additive'}\n"
     ]
    },
    {
     "name": "stderr",
     "output_type": "stream",
     "text": [
      "INFO:fbprophet:Disabling daily seasonality. Run prophet with daily_seasonality=True to override this.\n"
     ]
    },
    {
     "name": "stdout",
     "output_type": "stream",
     "text": [
      "Mean Absolute Error(MAE)------------------------------------ 13.774438747283776\n",
      "{'changepoint_prior_scale': 0.3, 'holidays_prior_scale': 0.5, 'n_changepoints': 100, 'seasonality_mode': 'multiplicative'}\n"
     ]
    },
    {
     "name": "stderr",
     "output_type": "stream",
     "text": [
      "INFO:fbprophet:Disabling daily seasonality. Run prophet with daily_seasonality=True to override this.\n"
     ]
    },
    {
     "name": "stdout",
     "output_type": "stream",
     "text": [
      "Mean Absolute Error(MAE)------------------------------------ 150.15416654359638\n",
      "{'changepoint_prior_scale': 0.3, 'holidays_prior_scale': 0.5, 'n_changepoints': 100, 'seasonality_mode': 'additive'}\n"
     ]
    },
    {
     "name": "stderr",
     "output_type": "stream",
     "text": [
      "INFO:fbprophet:Disabling daily seasonality. Run prophet with daily_seasonality=True to override this.\n"
     ]
    },
    {
     "name": "stdout",
     "output_type": "stream",
     "text": [
      "Mean Absolute Error(MAE)------------------------------------ 13.698771459334953\n",
      "{'changepoint_prior_scale': 0.3, 'holidays_prior_scale': 0.5, 'n_changepoints': 150, 'seasonality_mode': 'multiplicative'}\n"
     ]
    },
    {
     "name": "stderr",
     "output_type": "stream",
     "text": [
      "INFO:fbprophet:Disabling daily seasonality. Run prophet with daily_seasonality=True to override this.\n"
     ]
    },
    {
     "name": "stdout",
     "output_type": "stream",
     "text": [
      "Mean Absolute Error(MAE)------------------------------------ 148.93099492033485\n",
      "{'changepoint_prior_scale': 0.3, 'holidays_prior_scale': 0.5, 'n_changepoints': 150, 'seasonality_mode': 'additive'}\n"
     ]
    },
    {
     "name": "stderr",
     "output_type": "stream",
     "text": [
      "INFO:fbprophet:Disabling daily seasonality. Run prophet with daily_seasonality=True to override this.\n"
     ]
    },
    {
     "name": "stdout",
     "output_type": "stream",
     "text": [
      "Mean Absolute Error(MAE)------------------------------------ 13.742628399059956\n",
      "{'changepoint_prior_scale': 0.3, 'holidays_prior_scale': 0.5, 'n_changepoints': 200, 'seasonality_mode': 'multiplicative'}\n"
     ]
    },
    {
     "name": "stderr",
     "output_type": "stream",
     "text": [
      "INFO:fbprophet:Disabling daily seasonality. Run prophet with daily_seasonality=True to override this.\n"
     ]
    },
    {
     "name": "stdout",
     "output_type": "stream",
     "text": [
      "Mean Absolute Error(MAE)------------------------------------ 149.41698332624566\n",
      "{'changepoint_prior_scale': 0.3, 'holidays_prior_scale': 0.5, 'n_changepoints': 200, 'seasonality_mode': 'additive'}\n"
     ]
    },
    {
     "name": "stderr",
     "output_type": "stream",
     "text": [
      "INFO:fbprophet:Disabling daily seasonality. Run prophet with daily_seasonality=True to override this.\n"
     ]
    },
    {
     "name": "stdout",
     "output_type": "stream",
     "text": [
      "Mean Absolute Error(MAE)------------------------------------ 13.7630896884555\n",
      "{'changepoint_prior_scale': 0.4, 'holidays_prior_scale': 0.1, 'n_changepoints': 100, 'seasonality_mode': 'multiplicative'}\n"
     ]
    },
    {
     "name": "stderr",
     "output_type": "stream",
     "text": [
      "INFO:fbprophet:Disabling daily seasonality. Run prophet with daily_seasonality=True to override this.\n"
     ]
    },
    {
     "name": "stdout",
     "output_type": "stream",
     "text": [
      "Mean Absolute Error(MAE)------------------------------------ 203.15855482453503\n",
      "{'changepoint_prior_scale': 0.4, 'holidays_prior_scale': 0.1, 'n_changepoints': 100, 'seasonality_mode': 'additive'}\n"
     ]
    },
    {
     "name": "stderr",
     "output_type": "stream",
     "text": [
      "INFO:fbprophet:Disabling daily seasonality. Run prophet with daily_seasonality=True to override this.\n"
     ]
    },
    {
     "name": "stdout",
     "output_type": "stream",
     "text": [
      "Mean Absolute Error(MAE)------------------------------------ 13.679856462444528\n",
      "{'changepoint_prior_scale': 0.4, 'holidays_prior_scale': 0.1, 'n_changepoints': 150, 'seasonality_mode': 'multiplicative'}\n"
     ]
    },
    {
     "name": "stderr",
     "output_type": "stream",
     "text": [
      "INFO:fbprophet:Disabling daily seasonality. Run prophet with daily_seasonality=True to override this.\n"
     ]
    },
    {
     "name": "stdout",
     "output_type": "stream",
     "text": [
      "Mean Absolute Error(MAE)------------------------------------ 202.1140651996179\n",
      "{'changepoint_prior_scale': 0.4, 'holidays_prior_scale': 0.1, 'n_changepoints': 150, 'seasonality_mode': 'additive'}\n"
     ]
    },
    {
     "name": "stderr",
     "output_type": "stream",
     "text": [
      "INFO:fbprophet:Disabling daily seasonality. Run prophet with daily_seasonality=True to override this.\n"
     ]
    },
    {
     "name": "stdout",
     "output_type": "stream",
     "text": [
      "Mean Absolute Error(MAE)------------------------------------ 13.80919539823752\n",
      "{'changepoint_prior_scale': 0.4, 'holidays_prior_scale': 0.1, 'n_changepoints': 200, 'seasonality_mode': 'multiplicative'}\n"
     ]
    },
    {
     "name": "stderr",
     "output_type": "stream",
     "text": [
      "INFO:fbprophet:Disabling daily seasonality. Run prophet with daily_seasonality=True to override this.\n"
     ]
    },
    {
     "name": "stdout",
     "output_type": "stream",
     "text": [
      "Mean Absolute Error(MAE)------------------------------------ 209.82658133297682\n",
      "{'changepoint_prior_scale': 0.4, 'holidays_prior_scale': 0.1, 'n_changepoints': 200, 'seasonality_mode': 'additive'}\n"
     ]
    },
    {
     "name": "stderr",
     "output_type": "stream",
     "text": [
      "INFO:fbprophet:Disabling daily seasonality. Run prophet with daily_seasonality=True to override this.\n"
     ]
    },
    {
     "name": "stdout",
     "output_type": "stream",
     "text": [
      "Mean Absolute Error(MAE)------------------------------------ 13.79053650397705\n",
      "{'changepoint_prior_scale': 0.4, 'holidays_prior_scale': 0.2, 'n_changepoints': 100, 'seasonality_mode': 'multiplicative'}\n"
     ]
    },
    {
     "name": "stderr",
     "output_type": "stream",
     "text": [
      "INFO:fbprophet:Disabling daily seasonality. Run prophet with daily_seasonality=True to override this.\n"
     ]
    },
    {
     "name": "stdout",
     "output_type": "stream",
     "text": [
      "Mean Absolute Error(MAE)------------------------------------ 174.5599845840247\n",
      "{'changepoint_prior_scale': 0.4, 'holidays_prior_scale': 0.2, 'n_changepoints': 100, 'seasonality_mode': 'additive'}\n"
     ]
    },
    {
     "name": "stderr",
     "output_type": "stream",
     "text": [
      "INFO:fbprophet:Disabling daily seasonality. Run prophet with daily_seasonality=True to override this.\n"
     ]
    },
    {
     "name": "stdout",
     "output_type": "stream",
     "text": [
      "Mean Absolute Error(MAE)------------------------------------ 13.737824425659042\n",
      "{'changepoint_prior_scale': 0.4, 'holidays_prior_scale': 0.2, 'n_changepoints': 150, 'seasonality_mode': 'multiplicative'}\n"
     ]
    },
    {
     "name": "stderr",
     "output_type": "stream",
     "text": [
      "INFO:fbprophet:Disabling daily seasonality. Run prophet with daily_seasonality=True to override this.\n"
     ]
    },
    {
     "name": "stdout",
     "output_type": "stream",
     "text": [
      "Mean Absolute Error(MAE)------------------------------------ 178.01826506107093\n",
      "{'changepoint_prior_scale': 0.4, 'holidays_prior_scale': 0.2, 'n_changepoints': 150, 'seasonality_mode': 'additive'}\n"
     ]
    },
    {
     "name": "stderr",
     "output_type": "stream",
     "text": [
      "INFO:fbprophet:Disabling daily seasonality. Run prophet with daily_seasonality=True to override this.\n"
     ]
    },
    {
     "name": "stdout",
     "output_type": "stream",
     "text": [
      "Mean Absolute Error(MAE)------------------------------------ 13.8383235130888\n",
      "{'changepoint_prior_scale': 0.4, 'holidays_prior_scale': 0.2, 'n_changepoints': 200, 'seasonality_mode': 'multiplicative'}\n"
     ]
    },
    {
     "name": "stderr",
     "output_type": "stream",
     "text": [
      "INFO:fbprophet:Disabling daily seasonality. Run prophet with daily_seasonality=True to override this.\n"
     ]
    },
    {
     "name": "stdout",
     "output_type": "stream",
     "text": [
      "Mean Absolute Error(MAE)------------------------------------ 189.43178474155988\n",
      "{'changepoint_prior_scale': 0.4, 'holidays_prior_scale': 0.2, 'n_changepoints': 200, 'seasonality_mode': 'additive'}\n"
     ]
    },
    {
     "name": "stderr",
     "output_type": "stream",
     "text": [
      "INFO:fbprophet:Disabling daily seasonality. Run prophet with daily_seasonality=True to override this.\n"
     ]
    },
    {
     "name": "stdout",
     "output_type": "stream",
     "text": [
      "Mean Absolute Error(MAE)------------------------------------ 13.864070909718343\n",
      "{'changepoint_prior_scale': 0.4, 'holidays_prior_scale': 0.3, 'n_changepoints': 100, 'seasonality_mode': 'multiplicative'}\n"
     ]
    },
    {
     "name": "stderr",
     "output_type": "stream",
     "text": [
      "INFO:fbprophet:Disabling daily seasonality. Run prophet with daily_seasonality=True to override this.\n"
     ]
    },
    {
     "name": "stdout",
     "output_type": "stream",
     "text": [
      "Mean Absolute Error(MAE)------------------------------------ 156.98969874934954\n",
      "{'changepoint_prior_scale': 0.4, 'holidays_prior_scale': 0.3, 'n_changepoints': 100, 'seasonality_mode': 'additive'}\n"
     ]
    },
    {
     "name": "stderr",
     "output_type": "stream",
     "text": [
      "INFO:fbprophet:Disabling daily seasonality. Run prophet with daily_seasonality=True to override this.\n"
     ]
    },
    {
     "name": "stdout",
     "output_type": "stream",
     "text": [
      "Mean Absolute Error(MAE)------------------------------------ 13.768422011462379\n",
      "{'changepoint_prior_scale': 0.4, 'holidays_prior_scale': 0.3, 'n_changepoints': 150, 'seasonality_mode': 'multiplicative'}\n"
     ]
    },
    {
     "name": "stderr",
     "output_type": "stream",
     "text": [
      "INFO:fbprophet:Disabling daily seasonality. Run prophet with daily_seasonality=True to override this.\n"
     ]
    },
    {
     "name": "stdout",
     "output_type": "stream",
     "text": [
      "Mean Absolute Error(MAE)------------------------------------ 156.55182213467643\n",
      "{'changepoint_prior_scale': 0.4, 'holidays_prior_scale': 0.3, 'n_changepoints': 150, 'seasonality_mode': 'additive'}\n"
     ]
    },
    {
     "name": "stderr",
     "output_type": "stream",
     "text": [
      "INFO:fbprophet:Disabling daily seasonality. Run prophet with daily_seasonality=True to override this.\n"
     ]
    },
    {
     "name": "stdout",
     "output_type": "stream",
     "text": [
      "Mean Absolute Error(MAE)------------------------------------ 13.886037240504752\n",
      "{'changepoint_prior_scale': 0.4, 'holidays_prior_scale': 0.3, 'n_changepoints': 200, 'seasonality_mode': 'multiplicative'}\n"
     ]
    },
    {
     "name": "stderr",
     "output_type": "stream",
     "text": [
      "INFO:fbprophet:Disabling daily seasonality. Run prophet with daily_seasonality=True to override this.\n"
     ]
    },
    {
     "name": "stdout",
     "output_type": "stream",
     "text": [
      "Mean Absolute Error(MAE)------------------------------------ 165.3945652382156\n",
      "{'changepoint_prior_scale': 0.4, 'holidays_prior_scale': 0.3, 'n_changepoints': 200, 'seasonality_mode': 'additive'}\n"
     ]
    },
    {
     "name": "stderr",
     "output_type": "stream",
     "text": [
      "INFO:fbprophet:Disabling daily seasonality. Run prophet with daily_seasonality=True to override this.\n"
     ]
    },
    {
     "name": "stdout",
     "output_type": "stream",
     "text": [
      "Mean Absolute Error(MAE)------------------------------------ 13.850648494881677\n",
      "{'changepoint_prior_scale': 0.4, 'holidays_prior_scale': 0.4, 'n_changepoints': 100, 'seasonality_mode': 'multiplicative'}\n"
     ]
    },
    {
     "name": "stderr",
     "output_type": "stream",
     "text": [
      "INFO:fbprophet:Disabling daily seasonality. Run prophet with daily_seasonality=True to override this.\n"
     ]
    },
    {
     "name": "stdout",
     "output_type": "stream",
     "text": [
      "Mean Absolute Error(MAE)------------------------------------ 121.74280727516094\n",
      "{'changepoint_prior_scale': 0.4, 'holidays_prior_scale': 0.4, 'n_changepoints': 100, 'seasonality_mode': 'additive'}\n"
     ]
    },
    {
     "name": "stderr",
     "output_type": "stream",
     "text": [
      "INFO:fbprophet:Disabling daily seasonality. Run prophet with daily_seasonality=True to override this.\n"
     ]
    },
    {
     "name": "stdout",
     "output_type": "stream",
     "text": [
      "Mean Absolute Error(MAE)------------------------------------ 13.762167662005828\n",
      "{'changepoint_prior_scale': 0.4, 'holidays_prior_scale': 0.4, 'n_changepoints': 150, 'seasonality_mode': 'multiplicative'}\n"
     ]
    },
    {
     "name": "stderr",
     "output_type": "stream",
     "text": [
      "INFO:fbprophet:Disabling daily seasonality. Run prophet with daily_seasonality=True to override this.\n"
     ]
    },
    {
     "name": "stdout",
     "output_type": "stream",
     "text": [
      "Mean Absolute Error(MAE)------------------------------------ 128.50357497397917\n",
      "{'changepoint_prior_scale': 0.4, 'holidays_prior_scale': 0.4, 'n_changepoints': 150, 'seasonality_mode': 'additive'}\n"
     ]
    },
    {
     "name": "stderr",
     "output_type": "stream",
     "text": [
      "INFO:fbprophet:Disabling daily seasonality. Run prophet with daily_seasonality=True to override this.\n"
     ]
    },
    {
     "name": "stdout",
     "output_type": "stream",
     "text": [
      "Mean Absolute Error(MAE)------------------------------------ 13.868064197583799\n",
      "{'changepoint_prior_scale': 0.4, 'holidays_prior_scale': 0.4, 'n_changepoints': 200, 'seasonality_mode': 'multiplicative'}\n"
     ]
    },
    {
     "name": "stderr",
     "output_type": "stream",
     "text": [
      "INFO:fbprophet:Disabling daily seasonality. Run prophet with daily_seasonality=True to override this.\n"
     ]
    },
    {
     "name": "stdout",
     "output_type": "stream",
     "text": [
      "Mean Absolute Error(MAE)------------------------------------ 145.19133143402362\n",
      "{'changepoint_prior_scale': 0.4, 'holidays_prior_scale': 0.4, 'n_changepoints': 200, 'seasonality_mode': 'additive'}\n"
     ]
    },
    {
     "name": "stderr",
     "output_type": "stream",
     "text": [
      "INFO:fbprophet:Disabling daily seasonality. Run prophet with daily_seasonality=True to override this.\n"
     ]
    },
    {
     "name": "stdout",
     "output_type": "stream",
     "text": [
      "Mean Absolute Error(MAE)------------------------------------ 13.860722910840968\n",
      "{'changepoint_prior_scale': 0.4, 'holidays_prior_scale': 0.5, 'n_changepoints': 100, 'seasonality_mode': 'multiplicative'}\n"
     ]
    },
    {
     "name": "stderr",
     "output_type": "stream",
     "text": [
      "INFO:fbprophet:Disabling daily seasonality. Run prophet with daily_seasonality=True to override this.\n"
     ]
    },
    {
     "name": "stdout",
     "output_type": "stream",
     "text": [
      "Mean Absolute Error(MAE)------------------------------------ 126.45760189911235\n",
      "{'changepoint_prior_scale': 0.4, 'holidays_prior_scale': 0.5, 'n_changepoints': 100, 'seasonality_mode': 'additive'}\n"
     ]
    },
    {
     "name": "stderr",
     "output_type": "stream",
     "text": [
      "INFO:fbprophet:Disabling daily seasonality. Run prophet with daily_seasonality=True to override this.\n"
     ]
    },
    {
     "name": "stdout",
     "output_type": "stream",
     "text": [
      "Mean Absolute Error(MAE)------------------------------------ 13.772422404609857\n",
      "{'changepoint_prior_scale': 0.4, 'holidays_prior_scale': 0.5, 'n_changepoints': 150, 'seasonality_mode': 'multiplicative'}\n"
     ]
    },
    {
     "name": "stderr",
     "output_type": "stream",
     "text": [
      "INFO:fbprophet:Disabling daily seasonality. Run prophet with daily_seasonality=True to override this.\n"
     ]
    },
    {
     "name": "stdout",
     "output_type": "stream",
     "text": [
      "Mean Absolute Error(MAE)------------------------------------ 107.86644416244962\n",
      "{'changepoint_prior_scale': 0.4, 'holidays_prior_scale': 0.5, 'n_changepoints': 150, 'seasonality_mode': 'additive'}\n"
     ]
    },
    {
     "name": "stderr",
     "output_type": "stream",
     "text": [
      "INFO:fbprophet:Disabling daily seasonality. Run prophet with daily_seasonality=True to override this.\n"
     ]
    },
    {
     "name": "stdout",
     "output_type": "stream",
     "text": [
      "Mean Absolute Error(MAE)------------------------------------ 13.836305118490372\n",
      "{'changepoint_prior_scale': 0.4, 'holidays_prior_scale': 0.5, 'n_changepoints': 200, 'seasonality_mode': 'multiplicative'}\n"
     ]
    },
    {
     "name": "stderr",
     "output_type": "stream",
     "text": [
      "INFO:fbprophet:Disabling daily seasonality. Run prophet with daily_seasonality=True to override this.\n"
     ]
    },
    {
     "name": "stdout",
     "output_type": "stream",
     "text": [
      "Mean Absolute Error(MAE)------------------------------------ 119.82550841135694\n",
      "{'changepoint_prior_scale': 0.4, 'holidays_prior_scale': 0.5, 'n_changepoints': 200, 'seasonality_mode': 'additive'}\n"
     ]
    },
    {
     "name": "stderr",
     "output_type": "stream",
     "text": [
      "INFO:fbprophet:Disabling daily seasonality. Run prophet with daily_seasonality=True to override this.\n"
     ]
    },
    {
     "name": "stdout",
     "output_type": "stream",
     "text": [
      "Mean Absolute Error(MAE)------------------------------------ 13.889898092932135\n",
      "{'changepoint_prior_scale': 0.5, 'holidays_prior_scale': 0.1, 'n_changepoints': 100, 'seasonality_mode': 'multiplicative'}\n"
     ]
    },
    {
     "name": "stderr",
     "output_type": "stream",
     "text": [
      "INFO:fbprophet:Disabling daily seasonality. Run prophet with daily_seasonality=True to override this.\n"
     ]
    },
    {
     "name": "stdout",
     "output_type": "stream",
     "text": [
      "Mean Absolute Error(MAE)------------------------------------ 185.24447111970088\n",
      "{'changepoint_prior_scale': 0.5, 'holidays_prior_scale': 0.1, 'n_changepoints': 100, 'seasonality_mode': 'additive'}\n"
     ]
    },
    {
     "name": "stderr",
     "output_type": "stream",
     "text": [
      "INFO:fbprophet:Disabling daily seasonality. Run prophet with daily_seasonality=True to override this.\n"
     ]
    },
    {
     "name": "stdout",
     "output_type": "stream",
     "text": [
      "Mean Absolute Error(MAE)------------------------------------ 13.831005539752793\n",
      "{'changepoint_prior_scale': 0.5, 'holidays_prior_scale': 0.1, 'n_changepoints': 150, 'seasonality_mode': 'multiplicative'}\n"
     ]
    },
    {
     "name": "stderr",
     "output_type": "stream",
     "text": [
      "INFO:fbprophet:Disabling daily seasonality. Run prophet with daily_seasonality=True to override this.\n"
     ]
    },
    {
     "name": "stdout",
     "output_type": "stream",
     "text": [
      "Mean Absolute Error(MAE)------------------------------------ 190.5414817577156\n",
      "{'changepoint_prior_scale': 0.5, 'holidays_prior_scale': 0.1, 'n_changepoints': 150, 'seasonality_mode': 'additive'}\n"
     ]
    },
    {
     "name": "stderr",
     "output_type": "stream",
     "text": [
      "INFO:fbprophet:Disabling daily seasonality. Run prophet with daily_seasonality=True to override this.\n"
     ]
    },
    {
     "name": "stdout",
     "output_type": "stream",
     "text": [
      "Mean Absolute Error(MAE)------------------------------------ 13.949124952145123\n",
      "{'changepoint_prior_scale': 0.5, 'holidays_prior_scale': 0.1, 'n_changepoints': 200, 'seasonality_mode': 'multiplicative'}\n"
     ]
    },
    {
     "name": "stderr",
     "output_type": "stream",
     "text": [
      "INFO:fbprophet:Disabling daily seasonality. Run prophet with daily_seasonality=True to override this.\n"
     ]
    },
    {
     "name": "stdout",
     "output_type": "stream",
     "text": [
      "Mean Absolute Error(MAE)------------------------------------ 185.84251807678444\n",
      "{'changepoint_prior_scale': 0.5, 'holidays_prior_scale': 0.1, 'n_changepoints': 200, 'seasonality_mode': 'additive'}\n"
     ]
    },
    {
     "name": "stderr",
     "output_type": "stream",
     "text": [
      "INFO:fbprophet:Disabling daily seasonality. Run prophet with daily_seasonality=True to override this.\n"
     ]
    },
    {
     "name": "stdout",
     "output_type": "stream",
     "text": [
      "Mean Absolute Error(MAE)------------------------------------ 13.887195487492047\n",
      "{'changepoint_prior_scale': 0.5, 'holidays_prior_scale': 0.2, 'n_changepoints': 100, 'seasonality_mode': 'multiplicative'}\n"
     ]
    },
    {
     "name": "stderr",
     "output_type": "stream",
     "text": [
      "INFO:fbprophet:Disabling daily seasonality. Run prophet with daily_seasonality=True to override this.\n"
     ]
    },
    {
     "name": "stdout",
     "output_type": "stream",
     "text": [
      "Mean Absolute Error(MAE)------------------------------------ 145.84599556175905\n",
      "{'changepoint_prior_scale': 0.5, 'holidays_prior_scale': 0.2, 'n_changepoints': 100, 'seasonality_mode': 'additive'}\n"
     ]
    },
    {
     "name": "stderr",
     "output_type": "stream",
     "text": [
      "INFO:fbprophet:Disabling daily seasonality. Run prophet with daily_seasonality=True to override this.\n"
     ]
    },
    {
     "name": "stdout",
     "output_type": "stream",
     "text": [
      "Mean Absolute Error(MAE)------------------------------------ 13.899331152177519\n",
      "{'changepoint_prior_scale': 0.5, 'holidays_prior_scale': 0.2, 'n_changepoints': 150, 'seasonality_mode': 'multiplicative'}\n"
     ]
    },
    {
     "name": "stderr",
     "output_type": "stream",
     "text": [
      "INFO:fbprophet:Disabling daily seasonality. Run prophet with daily_seasonality=True to override this.\n"
     ]
    },
    {
     "name": "stdout",
     "output_type": "stream",
     "text": [
      "Mean Absolute Error(MAE)------------------------------------ 157.9333352263077\n",
      "{'changepoint_prior_scale': 0.5, 'holidays_prior_scale': 0.2, 'n_changepoints': 150, 'seasonality_mode': 'additive'}\n"
     ]
    },
    {
     "name": "stderr",
     "output_type": "stream",
     "text": [
      "INFO:fbprophet:Disabling daily seasonality. Run prophet with daily_seasonality=True to override this.\n"
     ]
    },
    {
     "name": "stdout",
     "output_type": "stream",
     "text": [
      "Mean Absolute Error(MAE)------------------------------------ 13.995750742633357\n",
      "{'changepoint_prior_scale': 0.5, 'holidays_prior_scale': 0.2, 'n_changepoints': 200, 'seasonality_mode': 'multiplicative'}\n"
     ]
    },
    {
     "name": "stderr",
     "output_type": "stream",
     "text": [
      "INFO:fbprophet:Disabling daily seasonality. Run prophet with daily_seasonality=True to override this.\n"
     ]
    },
    {
     "name": "stdout",
     "output_type": "stream",
     "text": [
      "Mean Absolute Error(MAE)------------------------------------ 161.2567560504004\n",
      "{'changepoint_prior_scale': 0.5, 'holidays_prior_scale': 0.2, 'n_changepoints': 200, 'seasonality_mode': 'additive'}\n"
     ]
    },
    {
     "name": "stderr",
     "output_type": "stream",
     "text": [
      "INFO:fbprophet:Disabling daily seasonality. Run prophet with daily_seasonality=True to override this.\n"
     ]
    },
    {
     "name": "stdout",
     "output_type": "stream",
     "text": [
      "Mean Absolute Error(MAE)------------------------------------ 14.015599173520425\n",
      "{'changepoint_prior_scale': 0.5, 'holidays_prior_scale': 0.3, 'n_changepoints': 100, 'seasonality_mode': 'multiplicative'}\n"
     ]
    },
    {
     "name": "stderr",
     "output_type": "stream",
     "text": [
      "INFO:fbprophet:Disabling daily seasonality. Run prophet with daily_seasonality=True to override this.\n"
     ]
    },
    {
     "name": "stdout",
     "output_type": "stream",
     "text": [
      "Mean Absolute Error(MAE)------------------------------------ 79.2409815255395\n",
      "{'changepoint_prior_scale': 0.5, 'holidays_prior_scale': 0.3, 'n_changepoints': 100, 'seasonality_mode': 'additive'}\n"
     ]
    },
    {
     "name": "stderr",
     "output_type": "stream",
     "text": [
      "INFO:fbprophet:Disabling daily seasonality. Run prophet with daily_seasonality=True to override this.\n"
     ]
    },
    {
     "name": "stdout",
     "output_type": "stream",
     "text": [
      "Mean Absolute Error(MAE)------------------------------------ 13.934342541650663\n",
      "{'changepoint_prior_scale': 0.5, 'holidays_prior_scale': 0.3, 'n_changepoints': 150, 'seasonality_mode': 'multiplicative'}\n"
     ]
    },
    {
     "name": "stderr",
     "output_type": "stream",
     "text": [
      "INFO:fbprophet:Disabling daily seasonality. Run prophet with daily_seasonality=True to override this.\n"
     ]
    },
    {
     "name": "stdout",
     "output_type": "stream",
     "text": [
      "Mean Absolute Error(MAE)------------------------------------ 102.06953877820494\n",
      "{'changepoint_prior_scale': 0.5, 'holidays_prior_scale': 0.3, 'n_changepoints': 150, 'seasonality_mode': 'additive'}\n"
     ]
    },
    {
     "name": "stderr",
     "output_type": "stream",
     "text": [
      "INFO:fbprophet:Disabling daily seasonality. Run prophet with daily_seasonality=True to override this.\n"
     ]
    },
    {
     "name": "stdout",
     "output_type": "stream",
     "text": [
      "Mean Absolute Error(MAE)------------------------------------ 13.98484277389241\n",
      "{'changepoint_prior_scale': 0.5, 'holidays_prior_scale': 0.3, 'n_changepoints': 200, 'seasonality_mode': 'multiplicative'}\n"
     ]
    },
    {
     "name": "stderr",
     "output_type": "stream",
     "text": [
      "INFO:fbprophet:Disabling daily seasonality. Run prophet with daily_seasonality=True to override this.\n"
     ]
    },
    {
     "name": "stdout",
     "output_type": "stream",
     "text": [
      "Mean Absolute Error(MAE)------------------------------------ 122.8653994932129\n",
      "{'changepoint_prior_scale': 0.5, 'holidays_prior_scale': 0.3, 'n_changepoints': 200, 'seasonality_mode': 'additive'}\n"
     ]
    },
    {
     "name": "stderr",
     "output_type": "stream",
     "text": [
      "INFO:fbprophet:Disabling daily seasonality. Run prophet with daily_seasonality=True to override this.\n"
     ]
    },
    {
     "name": "stdout",
     "output_type": "stream",
     "text": [
      "Mean Absolute Error(MAE)------------------------------------ 13.989630820014884\n",
      "{'changepoint_prior_scale': 0.5, 'holidays_prior_scale': 0.4, 'n_changepoints': 100, 'seasonality_mode': 'multiplicative'}\n"
     ]
    },
    {
     "name": "stderr",
     "output_type": "stream",
     "text": [
      "INFO:fbprophet:Disabling daily seasonality. Run prophet with daily_seasonality=True to override this.\n"
     ]
    },
    {
     "name": "stdout",
     "output_type": "stream",
     "text": [
      "Mean Absolute Error(MAE)------------------------------------ 77.10391097425432\n",
      "{'changepoint_prior_scale': 0.5, 'holidays_prior_scale': 0.4, 'n_changepoints': 100, 'seasonality_mode': 'additive'}\n"
     ]
    },
    {
     "name": "stderr",
     "output_type": "stream",
     "text": [
      "INFO:fbprophet:Disabling daily seasonality. Run prophet with daily_seasonality=True to override this.\n"
     ]
    },
    {
     "name": "stdout",
     "output_type": "stream",
     "text": [
      "Mean Absolute Error(MAE)------------------------------------ 13.90493028749023\n",
      "{'changepoint_prior_scale': 0.5, 'holidays_prior_scale': 0.4, 'n_changepoints': 150, 'seasonality_mode': 'multiplicative'}\n"
     ]
    },
    {
     "name": "stderr",
     "output_type": "stream",
     "text": [
      "INFO:fbprophet:Disabling daily seasonality. Run prophet with daily_seasonality=True to override this.\n"
     ]
    },
    {
     "name": "stdout",
     "output_type": "stream",
     "text": [
      "Mean Absolute Error(MAE)------------------------------------ 69.25163877083321\n",
      "{'changepoint_prior_scale': 0.5, 'holidays_prior_scale': 0.4, 'n_changepoints': 150, 'seasonality_mode': 'additive'}\n"
     ]
    },
    {
     "name": "stderr",
     "output_type": "stream",
     "text": [
      "INFO:fbprophet:Disabling daily seasonality. Run prophet with daily_seasonality=True to override this.\n"
     ]
    },
    {
     "name": "stdout",
     "output_type": "stream",
     "text": [
      "Mean Absolute Error(MAE)------------------------------------ 14.00061585933689\n",
      "{'changepoint_prior_scale': 0.5, 'holidays_prior_scale': 0.4, 'n_changepoints': 200, 'seasonality_mode': 'multiplicative'}\n"
     ]
    },
    {
     "name": "stderr",
     "output_type": "stream",
     "text": [
      "INFO:fbprophet:Disabling daily seasonality. Run prophet with daily_seasonality=True to override this.\n"
     ]
    },
    {
     "name": "stdout",
     "output_type": "stream",
     "text": [
      "Mean Absolute Error(MAE)------------------------------------ 89.61968313175404\n",
      "{'changepoint_prior_scale': 0.5, 'holidays_prior_scale': 0.4, 'n_changepoints': 200, 'seasonality_mode': 'additive'}\n"
     ]
    },
    {
     "name": "stderr",
     "output_type": "stream",
     "text": [
      "INFO:fbprophet:Disabling daily seasonality. Run prophet with daily_seasonality=True to override this.\n"
     ]
    },
    {
     "name": "stdout",
     "output_type": "stream",
     "text": [
      "Mean Absolute Error(MAE)------------------------------------ 14.000697705797862\n",
      "{'changepoint_prior_scale': 0.5, 'holidays_prior_scale': 0.5, 'n_changepoints': 100, 'seasonality_mode': 'multiplicative'}\n"
     ]
    },
    {
     "name": "stderr",
     "output_type": "stream",
     "text": [
      "INFO:fbprophet:Disabling daily seasonality. Run prophet with daily_seasonality=True to override this.\n"
     ]
    },
    {
     "name": "stdout",
     "output_type": "stream",
     "text": [
      "Mean Absolute Error(MAE)------------------------------------ 55.73422437043761\n",
      "{'changepoint_prior_scale': 0.5, 'holidays_prior_scale': 0.5, 'n_changepoints': 100, 'seasonality_mode': 'additive'}\n"
     ]
    },
    {
     "name": "stderr",
     "output_type": "stream",
     "text": [
      "INFO:fbprophet:Disabling daily seasonality. Run prophet with daily_seasonality=True to override this.\n"
     ]
    },
    {
     "name": "stdout",
     "output_type": "stream",
     "text": [
      "Mean Absolute Error(MAE)------------------------------------ 13.917172487297979\n",
      "{'changepoint_prior_scale': 0.5, 'holidays_prior_scale': 0.5, 'n_changepoints': 150, 'seasonality_mode': 'multiplicative'}\n"
     ]
    },
    {
     "name": "stderr",
     "output_type": "stream",
     "text": [
      "INFO:fbprophet:Disabling daily seasonality. Run prophet with daily_seasonality=True to override this.\n"
     ]
    },
    {
     "name": "stdout",
     "output_type": "stream",
     "text": [
      "Mean Absolute Error(MAE)------------------------------------ 65.24651154905845\n",
      "{'changepoint_prior_scale': 0.5, 'holidays_prior_scale': 0.5, 'n_changepoints': 150, 'seasonality_mode': 'additive'}\n"
     ]
    },
    {
     "name": "stderr",
     "output_type": "stream",
     "text": [
      "INFO:fbprophet:Disabling daily seasonality. Run prophet with daily_seasonality=True to override this.\n"
     ]
    },
    {
     "name": "stdout",
     "output_type": "stream",
     "text": [
      "Mean Absolute Error(MAE)------------------------------------ 14.014377828204632\n",
      "{'changepoint_prior_scale': 0.5, 'holidays_prior_scale': 0.5, 'n_changepoints': 200, 'seasonality_mode': 'multiplicative'}\n"
     ]
    },
    {
     "name": "stderr",
     "output_type": "stream",
     "text": [
      "INFO:fbprophet:Disabling daily seasonality. Run prophet with daily_seasonality=True to override this.\n"
     ]
    },
    {
     "name": "stdout",
     "output_type": "stream",
     "text": [
      "Mean Absolute Error(MAE)------------------------------------ 76.14523104659379\n",
      "{'changepoint_prior_scale': 0.5, 'holidays_prior_scale': 0.5, 'n_changepoints': 200, 'seasonality_mode': 'additive'}\n",
      "Mean Absolute Error(MAE)------------------------------------ 14.01694129263695\n"
     ]
    }
   ],
   "source": [
    "strt='2021-01-01'\n",
    "end='2021-05-01'\n",
    "model_parameters = pd.DataFrame(columns = ['MAE','Parameters'])\n",
    "for p in grid:\n",
    "    test = pd.DataFrame()\n",
    "    print(p)\n",
    "    random.seed(0)\n",
    "    train_model =Prophet(changepoint_prior_scale = p['changepoint_prior_scale'],\n",
    "                         holidays_prior_scale = p['holidays_prior_scale'],\n",
    "                         n_changepoints = p['n_changepoints'],\n",
    "                         seasonality_mode = p['seasonality_mode'],\n",
    "                         yearly_seasonality = True,\n",
    "                         holidays=holidays, \n",
    "                         interval_width=0.95)\n",
    "    #train_model.add_country_holidays(country_name='Germany')\n",
    "    train_model.fit(df_train)\n",
    "    train_forecast = train_model.make_future_dataframe(periods=103, freq='D',include_history = False)\n",
    "    train_forecast = train_model.predict(train_forecast)\n",
    "    test=train_forecast[['ds','yhat']]\n",
    "    Actual = data[(data['ds']>strt) & (data['ds']<=end)]\n",
    "    MAE = mean_absolute_error(Actual['y'][11:],abs(test['yhat'][11:]))\n",
    "    print('Mean Absolute Error(MAE)------------------------------------',MAE)\n",
    "    model_parameters = model_parameters.append({'MAE':MAE,'Parameters':p},ignore_index=True)"
   ]
  },
  {
   "cell_type": "code",
   "execution_count": 10,
   "id": "8f1f953a",
   "metadata": {},
   "outputs": [
    {
     "data": {
      "text/plain": [
       "{'changepoint_prior_scale': 0.2,\n",
       " 'holidays_prior_scale': 0.1,\n",
       " 'n_changepoints': 100,\n",
       " 'seasonality_mode': 'additive'}"
      ]
     },
     "execution_count": 10,
     "metadata": {},
     "output_type": "execute_result"
    }
   ],
   "source": [
    "parameters = model_parameters.sort_values(by=['MAE'])\n",
    "parameters = parameters.reset_index(drop=True)\n",
    "parameters['Parameters'][0]"
   ]
  },
  {
   "cell_type": "code",
   "execution_count": 11,
   "id": "57003d35",
   "metadata": {},
   "outputs": [
    {
     "name": "stderr",
     "output_type": "stream",
     "text": [
      "INFO:fbprophet:Disabling daily seasonality. Run prophet with daily_seasonality=True to override this.\n"
     ]
    },
    {
     "name": "stdout",
     "output_type": "stream",
     "text": [
      "12.714196660480637\n",
      "0.19573024038197034\n"
     ]
    },
    {
     "data": {
      "image/png": "[encoded data removed]",
      "text/plain": [
       "<Figure size 1500x500 with 1 Axes>"
      ]
     },
     "metadata": {
      "needs_background": "light"
     },
     "output_type": "display_data"
    }
   ],
   "source": [
    "#train-test-split & Format data for prophet model using ds and y\n",
    "#df = df.rename(columns={'Sold_On':'ds', 'Amount_Sold':'y'})\n",
    "data1 = (df_resampled['ds'] >= '2012-01-01') & (df_resampled['ds'] <= '2019-12-31')\n",
    "data2 = (df_resampled['ds'] >= '2021-01-01') & (df_resampled['ds'] <= '2021-05-30')\n",
    "data1 = df_resampled.loc[data1]\n",
    "data2 = df_resampled.loc[data2]\n",
    "data = pd.concat([data1,data2])\n",
    "data = data[data['ds'] >= '2014-01-01']\n",
    "\n",
    "split_date = '2021-01-01'\n",
    "train = data.loc[data.ds <= split_date].copy()\n",
    "test = data.loc[data.ds > split_date].copy()\n",
    "df_train = train[['ds', 'y']]\n",
    "df_test = test[['ds']]\n",
    "\n",
    "# Fitting a Prophet model\n",
    "model = Prophet(holidays=holidays,\n",
    "                changepoint_prior_scale= 0.2,\n",
    "                holidays_prior_scale= 0.1,\n",
    "                n_changepoints= 100,\n",
    "                seasonality_mode= 'additive')\n",
    "#model.add_country_holidays(country_name='Germany')\n",
    "model.fit(df_train)\n",
    "prediction = model.predict(df_test)\n",
    "\n",
    "#define period for which we want to forecast\n",
    "#one year future forecast period (daily predictions)\n",
    "index_1_year=pd.date_range(df_resampled['ds'].iloc[-1],freq='D',periods=730)\n",
    "df_index_1_year=pd.DataFrame(index_1_year)\n",
    "df_index_1_year.columns=['ds']\n",
    "df_index_1_year['ds']=pd.to_datetime(df_index_1_year['ds'])\n",
    "fcast=model.predict(df_index_1_year)\n",
    "\n",
    "test = test.assign(YearDay=lambda x: x['ds'].dt.dayofyear)\n",
    "test_2021 = test[['y', 'ds']]\n",
    "test_2021 = test_2021.set_index('ds').sort_index()\n",
    "\n",
    "prediction = prediction.assign(YearDay=lambda x: x['ds'].dt.dayofyear)\n",
    "prediction_2021 = prediction[['yhat', 'ds']]\n",
    "prediction_2021 = prediction_2021.set_index('ds').sort_index()\n",
    "\n",
    "result_2021 = pd.concat([test_2021, prediction_2021], axis=1)\n",
    "fmt_half_year = mdates.WeekdayLocator(byweekday=0,interval=1)\n",
    "ax = result_2021.plot.bar(rot=45, width=0.8)\n",
    "ax.xaxis.set_major_locator(fmt_half_year)\n",
    "ax.xaxis.set_major_formatter(mdates.DateFormatter('%2021-%m-%d'))\n",
    "plt.xlabel('Date', fontsize=15)\n",
    "plt.ylabel('Sales Amount', fontsize=15)\n",
    "plt.xlim([0,105])\n",
    "plt.ylim([0,200])\n",
    "plt.xticks(rotation=45)\n",
    "plt.gca().legend(('actual','prediction'))\n",
    "plt.title(\"Actual vs Prediction Sales 2021 Osterpinze\", fontsize=20)\n",
    "#plt.rc('xtick', labelsize=20) \n",
    "#plt.rc('ytick', labelsize=20)\n",
    "print(mean_absolute_error(test.y,prediction.yhat))\n",
    "print(mean_absolute_percentage_error(test.y[11:],prediction.yhat[11:]))"
   ]
  },
  {
   "cell_type": "markdown",
   "id": "5c7ca093",
   "metadata": {},
   "source": [
    "## Sales Forecast 2022"
   ]
  },
  {
   "cell_type": "code",
   "execution_count": 12,
   "id": "f087de14",
   "metadata": {},
   "outputs": [
    {
     "data": {
      "text/plain": [
       "Text(0.5, 0, 'Date')"
      ]
     },
     "execution_count": 12,
     "metadata": {},
     "output_type": "execute_result"
    },
    {
     "data": {
      "image/png": "[encoded data removed]",
      "text/plain": [
       "<Figure size 1500x500 with 1 Axes>"
      ]
     },
     "metadata": {
      "needs_background": "light"
     },
     "output_type": "display_data"
    }
   ],
   "source": [
    "fcast_2022=(fcast['ds'] >= '2022-01-01') & (fcast['ds'] <= '2022-05-01')\n",
    "fcast_2022 = fcast.loc[fcast_2022]\n",
    "ax=plt.bar(fcast_2022.ds,fcast_2022.yhat, width=0.8)\n",
    "plt.ylim([0,200])\n",
    "plt.xlim(pd.Timestamp('2022-01-01'), pd.Timestamp('2022-05-01'))\n",
    "plt.title('Sales Forecast 2022 Osterpinze', fontsize=20)\n",
    "plt.xticks(rotation=45)\n",
    "plt.ylabel('Sales Amount', fontsize=15)\n",
    "plt.xlabel('Date', fontsize=15)"
   ]
  },
  {
   "cell_type": "code",
   "execution_count": 13,
   "id": "d45192f0",
   "metadata": {},
   "outputs": [
    {
     "data": {
      "text/plain": [
       "8080.944343001492"
      ]
     },
     "execution_count": 13,
     "metadata": {},
     "output_type": "execute_result"
    }
   ],
   "source": [
    "fcast_2022.loc[fcast_2022.ds<='2022-05-01'].yhat.sum()"
   ]
  },
  {
   "cell_type": "markdown",
   "id": "49f526da",
   "metadata": {},
   "source": [
    "## Prediction of ratio deliveries to sold"
   ]
  },
  {
   "cell_type": "code",
   "execution_count": 14,
   "id": "278773ef",
   "metadata": {},
   "outputs": [
    {
     "name": "stderr",
     "output_type": "stream",
     "text": [
      "INFO:fbprophet:Disabling daily seasonality. Run prophet with daily_seasonality=True to override this.\n"
     ]
    }
   ],
   "source": [
    "df_resampled_fcast=df_resampled.rename(columns={'y':'Amount_Sold'})\n",
    "df_resampled_fcast['Ratio_DelSol']=df_resampled_fcast.Amount_Delivered/df_resampled_fcast.Amount_Sold\n",
    "df_resampled_fcast=df_resampled_fcast.rename(columns={'Ratio_DelSol':'y'})\n",
    "\n",
    "#predict ratio\n",
    "data1 = (df_resampled_fcast['ds'] >= '2012-01-01') & (df_resampled_fcast['ds'] <= '2019-12-31')\n",
    "data2 = (df_resampled_fcast['ds'] >= '2021-01-01') & (df_resampled_fcast['ds'] <= '2021-05-30')\n",
    "data1 = df_resampled_fcast.loc[data1]\n",
    "data2 = df_resampled_fcast.loc[data2]\n",
    "data = pd.concat([data1,data2])\n",
    "data = data[data['ds'] >= '2014-01-01']\n",
    "\n",
    "split_date = '2021-01-01'\n",
    "train = data.loc[data.ds <= split_date].copy()\n",
    "test = data.loc[data.ds > split_date].copy()\n",
    "df_train = train[['ds', 'y']]\n",
    "df_test = test[['ds']]\n",
    "\n",
    "# Fitting a Prophet model\n",
    "model = Prophet(holidays=holidays)\n",
    "model.add_country_holidays(country_name='Germany')\n",
    "model.fit(df_train)\n",
    "prediction_ratio = model.predict(df_test)\n",
    "\n",
    "#define period for which we want to forecast\n",
    "#one year future forecast period (daily predictions)\n",
    "index_1_year=pd.date_range(df_resampled['ds'].iloc[-1],freq='D',periods=730)\n",
    "df_index_1_year=pd.DataFrame(index_1_year)\n",
    "df_index_1_year.columns=['ds']\n",
    "df_index_1_year['ds']=pd.to_datetime(df_index_1_year['ds'])\n",
    "fcast_ratio=model.predict(df_index_1_year)"
   ]
  },
  {
   "cell_type": "code",
   "execution_count": 15,
   "id": "0c22af86",
   "metadata": {},
   "outputs": [
    {
     "data": {
      "text/plain": [
       "0.10559764239299194"
      ]
     },
     "execution_count": 15,
     "metadata": {},
     "output_type": "execute_result"
    },
    {
     "data": {
      "image/png": "[encoded data removed]",
      "text/plain": [
       "<Figure size 1500x500 with 1 Axes>"
      ]
     },
     "metadata": {
      "needs_background": "light"
     },
     "output_type": "display_data"
    }
   ],
   "source": [
    "test = test.assign(YearDay=lambda x: x['ds'].dt.dayofyear)\n",
    "test_2021 = test[['YearDay', 'y']]\n",
    "test_2021 = test_2021.set_index('YearDay').sort_index()\n",
    "\n",
    "prediction_ratio = prediction_ratio.assign(YearDay=lambda x: x['ds'].dt.dayofyear)\n",
    "prediction_ratio = prediction_ratio[['YearDay', 'yhat']]\n",
    "prediction_ratio = prediction_ratio.set_index('YearDay').sort_index()\n",
    "\n",
    "result_2021 = pd.concat([test_2021, prediction_ratio], axis=1)\n",
    "fmt_half_year = mdates.WeekdayLocator(byweekday=0,interval=1)\n",
    "ax = result_2021.plot.bar(rot=45, width=0.8)\n",
    "ax.xaxis.set_major_locator(fmt_half_year)\n",
    "ax.xaxis.set_major_formatter(mdates.DateFormatter('%2021-%m-%d'))\n",
    "plt.xlabel('Date', fontsize=15)\n",
    "plt.ylabel('Ratio', fontsize=15)\n",
    "plt.xlim([0,100])\n",
    "#plt.ylim([0,200])\n",
    "plt.xticks(rotation=45)\n",
    "plt.gca().legend(('actual','prediction'))\n",
    "plt.title(\"Actual vs Prediction Ratio (Deliveries to Sales) 2021\", fontsize=20)\n",
    "mean_absolute_error(test_2021[11:],prediction_ratio[11:])"
   ]
  },
  {
   "cell_type": "markdown",
   "id": "977f3d15",
   "metadata": {},
   "source": [
    "## Ratio Forecast 2022"
   ]
  },
  {
   "cell_type": "code",
   "execution_count": 16,
   "id": "9a21e405",
   "metadata": {},
   "outputs": [],
   "source": [
    "fcast_2022_ratio=(fcast_ratio['ds'] >= '2022-01-01') & (fcast_ratio['ds'] <= '2022-05-01')\n",
    "fcast_2022_ratio = fcast_ratio.loc[fcast_2022_ratio]\n",
    "\n",
    "overdelivery=fcast_2022_ratio.loc[(fcast_2022_ratio.yhat>=1.05)]\n",
    "underdelivery=fcast_2022_ratio.loc[(fcast_2022_ratio.yhat<=0.99)]\n",
    "onpoint=fcast_2022_ratio.loc[(fcast_2022_ratio.yhat>0.99)&(fcast_2022_ratio.yhat<1.05)]\n",
    "\n",
    "overdelivery['rate']=(fcast_2022_ratio.loc[(fcast_2022_ratio.yhat>1)].yhat-1)*100\n",
    "underdelivery['rate']=(fcast_2022_ratio.loc[(fcast_2022_ratio.yhat<1)].yhat-1)*100\n",
    "onpoint['rate']=((fcast_2022_ratio.loc[(fcast_2022_ratio.yhat>0.99)&(fcast_2022_ratio.yhat<1.1)]).yhat-1)*100"
   ]
  },
  {
   "cell_type": "code",
   "execution_count": 17,
   "id": "fdd68e51",
   "metadata": {},
   "outputs": [
    {
     "data": {
      "text/plain": [
       "<matplotlib.lines.Line2D at 0x7f8c6419c730>"
      ]
     },
     "execution_count": 17,
     "metadata": {},
     "output_type": "execute_result"
    },
    {
     "data": {
      "image/png": "[encoded data removed]",
      "text/plain": [
       "<Figure size 1500x500 with 1 Axes>"
      ]
     },
     "metadata": {
      "needs_background": "light"
     },
     "output_type": "display_data"
    }
   ],
   "source": [
    "plt.bar(overdelivery.ds,overdelivery.yhat, label='overdelivery')\n",
    "plt.bar(underdelivery.ds,underdelivery.yhat, label='underdelivery', color='g')\n",
    "plt.bar(onpoint.ds,onpoint.yhat, label='onpoint',color='r')\n",
    "plt.xlim(pd.Timestamp('2022-01-01'), pd.Timestamp('2022-05-01'))\n",
    "plt.legend(loc=\"upper right\")\n",
    "plt.title('Ratio (Deliveries to Sales) Forecast 2022', fontsize=20)\n",
    "plt.ylabel('Ratio', fontsize=15)\n",
    "plt.xlabel('Date', fontsize=15)\n",
    "plt.xticks(rotation=45)\n",
    "plt.axhline(y=0.995, color='k', linestyle='-')\n",
    "plt.axhline(y=1.045, color='k', linestyle='-')"
   ]
  },
  {
   "cell_type": "code",
   "execution_count": 18,
   "id": "7f4cf105",
   "metadata": {},
   "outputs": [
    {
     "data": {
      "text/plain": [
       "(array([18993., 19007., 19024., 19038., 19052., 19066., 19083., 19097.,\n",
       "        19113.]),\n",
       " [Text(0, 0, ''),\n",
       "  Text(0, 0, ''),\n",
       "  Text(0, 0, ''),\n",
       "  Text(0, 0, ''),\n",
       "  Text(0, 0, ''),\n",
       "  Text(0, 0, ''),\n",
       "  Text(0, 0, ''),\n",
       "  Text(0, 0, ''),\n",
       "  Text(0, 0, '')])"
      ]
     },
     "execution_count": 18,
     "metadata": {},
     "output_type": "execute_result"
    },
    {
     "data": {
      "image/png": "[encoded data removed]",
      "text/plain": [
       "<Figure size 1500x500 with 1 Axes>"
      ]
     },
     "metadata": {
      "needs_background": "light"
     },
     "output_type": "display_data"
    }
   ],
   "source": [
    "plt.bar(fcast_2022.ds,(overdelivery.yhat*0.9)*fcast_2022.yhat,label='overdelivery')\n",
    "plt.bar(fcast_2022.ds,(underdelivery.yhat*1.05)*fcast_2022.yhat,label='underdelivery', color='g')\n",
    "plt.bar(fcast_2022.ds,(onpoint.yhat*1.05)*fcast_2022.yhat,label='onpoint',color='r')\n",
    "plt.legend(loc=\"upper right\")\n",
    "plt.ylim(0,200)\n",
    "plt.xlim(pd.Timestamp('2022-01-01'), pd.Timestamp('2022-05-01'))\n",
    "plt.title('Delivery Amount after Optimization 2022', fontsize=20)\n",
    "plt.ylabel('Delivery Amount', fontsize=15)\n",
    "plt.xlabel('Date', fontsize=15)\n",
    "plt.xticks(rotation=45)"
   ]
  },
  {
   "cell_type": "markdown",
   "id": "b52ec99b",
   "metadata": {},
   "source": [
    "## Component Analysis"
   ]
  },
  {
   "cell_type": "code",
   "execution_count": 19,
   "id": "006d98ff",
   "metadata": {},
   "outputs": [
    {
     "data": {
      "image/png": "[encoded data removed]",
      "text/plain": [
       "<Figure size 900x1200 with 4 Axes>"
      ]
     },
     "execution_count": 19,
     "metadata": {},
     "output_type": "execute_result"
    },
    {
     "data": {
      "image/png": "[encoded data removed]",
      "text/plain": [
       "<Figure size 900x1200 with 4 Axes>"
      ]
     },
     "metadata": {},
     "output_type": "display_data"
    }
   ],
   "source": [
    "model.plot_components(prediction)"
   ]
  },
  {
   "cell_type": "markdown",
   "id": "a405df85",
   "metadata": {},
   "source": [
    "## Profit Calculation"
   ]
  },
  {
   "cell_type": "code",
   "execution_count": 30,
   "id": "81583f3c",
   "metadata": {},
   "outputs": [],
   "source": [
    "# Assumed Selling Prices\n",
    "Sell_Price_Article_1 = 1.4\n",
    "Sell_Price_Article_2 = 1.4\n",
    "Sell_Price_Article_3 = 1.4\n",
    "\n",
    "# Assumed Total Production Costs: 8% Location rental, \n",
    "# 17% Production, 20% Personal -> 45 %. 1.4 * 0.45 = 0.63\n",
    "Prod_Cost_Article_1 = 0.63\n",
    "Prod_Cost_Article_2 = 0.63\n",
    "Prod_Cost_Article_3 = 0.63\n",
    "\n",
    "# Assumed increase of Sellings\n",
    "Underdelivery_increase = 1.05\n",
    "\n",
    "# Assumed decrease of Overdeliverys\n",
    "Overdelivery_decrease = 1.1"
   ]
  },
  {
   "cell_type": "code",
   "execution_count": 31,
   "id": "78e21828",
   "metadata": {},
   "outputs": [],
   "source": [
    "a=pd.concat([fcast_2022.yhat,fcast_2022_ratio.yhat], axis=1)\n",
    "a.columns = ['sales', 'ratio']\n",
    "a=a.loc[a.ratio<1.05]\n",
    "b=pd.concat([fcast_2022.yhat,fcast_2022_ratio.yhat], axis=1)\n",
    "b.columns = ['sales', 'ratio']\n",
    "b=b.loc[b.ratio>=1.05]"
   ]
  },
  {
   "cell_type": "code",
   "execution_count": 32,
   "id": "37200cae",
   "metadata": {},
   "outputs": [
    {
     "data": {
      "text/html": [
       "<div>\n",
       "<style scoped>\n",
       "    .dataframe tbody tr th:only-of-type {\n",
       "        vertical-align: middle;\n",
       "    }\n",
       "\n",
       "    .dataframe tbody tr th {\n",
       "        vertical-align: top;\n",
       "    }\n",
       "\n",
       "    .dataframe thead th {\n",
       "        text-align: right;\n",
       "    }\n",
       "</style>\n",
       "<table border=\"1\" class=\"dataframe\">\n",
       "  <thead>\n",
       "    <tr style=\"text-align: right;\">\n",
       "      <th></th>\n",
       "      <th>Amount_Sold</th>\n",
       "      <th>Amount_Delivered</th>\n",
       "    </tr>\n",
       "    <tr>\n",
       "      <th>index</th>\n",
       "      <th></th>\n",
       "      <th></th>\n",
       "    </tr>\n",
       "  </thead>\n",
       "  <tbody>\n",
       "    <tr>\n",
       "      <th>Actual_2021</th>\n",
       "      <td>7109.00</td>\n",
       "      <td>7753.00</td>\n",
       "    </tr>\n",
       "    <tr>\n",
       "      <th>Prediction_2021</th>\n",
       "      <td>6994.46</td>\n",
       "      <td>7753.00</td>\n",
       "    </tr>\n",
       "    <tr>\n",
       "      <th>Forecast_2022</th>\n",
       "      <td>8080.94</td>\n",
       "      <td>8610.44</td>\n",
       "    </tr>\n",
       "    <tr>\n",
       "      <th>Forecast_2022_opt</th>\n",
       "      <td>8080.94</td>\n",
       "      <td>8221.45</td>\n",
       "    </tr>\n",
       "  </tbody>\n",
       "</table>\n",
       "</div>"
      ],
      "text/plain": [
       "                   Amount_Sold  Amount_Delivered\n",
       "index                                           \n",
       "Actual_2021            7109.00           7753.00\n",
       "Prediction_2021        6994.46           7753.00\n",
       "Forecast_2022          8080.94           8610.44\n",
       "Forecast_2022_opt      8080.94           8221.45"
      ]
     },
     "execution_count": 32,
     "metadata": {},
     "output_type": "execute_result"
    }
   ],
   "source": [
    "#create amount_sold/amount_delivered frame for actuals of 2021\n",
    "data_actual={'Amount_Sold':[test.y.sum()],\n",
    "             'Amount_Delivered':[test.Amount_Delivered.sum()]}\n",
    "df_actual=pd.DataFrame(data_actual)\n",
    "\n",
    "#create amount_sold/amount_delivered frame for predictions of 2021\n",
    "data_prediction={'Amount_Sold':[prediction.yhat.sum()],\n",
    "             'Amount_Delivered':[test.Amount_Delivered.sum()]}\n",
    "df_prediction=pd.DataFrame(data_prediction)\n",
    "\n",
    "#create amount_sold/amount_delivered frame for predictions of 2022\n",
    "data_fcast={'Amount_Sold':[fcast_2022.yhat.sum()],\n",
    "             'Amount_Delivered':[((overdelivery.yhat)*fcast_2022.yhat).sum()+((underdelivery.yhat)*fcast_2022.yhat).sum()+((onpoint.yhat)*fcast_2022.yhat).sum()]}\n",
    "df_fcast=pd.DataFrame(data_fcast)\n",
    "\n",
    "#create amount_sold/amount_delivered frame for optimized predictions of 2022\n",
    "data_fcast_opt={'Amount_Sold':[fcast_2022.yhat.sum()],\n",
    "                              #a.sales.sum()*1.05+b.sales.sum(),\n",
    "             'Amount_Delivered':[((overdelivery.yhat*0.9)*fcast_2022.yhat).sum()+((underdelivery.yhat*1.05)*fcast_2022.yhat).sum()+((onpoint.yhat*1.05)*fcast_2022.yhat).sum()]}\n",
    "df_fcast_opt=pd.DataFrame(data_fcast_opt)\n",
    "\n",
    "#concat frames\n",
    "df_Total=pd.concat([df_actual,df_prediction,df_fcast,df_fcast_opt], axis=0)\n",
    "df_Total=df_Total.round(2)\n",
    "df_Total['index']=['Actual_2021','Prediction_2021','Forecast_2022','Forecast_2022_opt']\n",
    "df_Total.set_index('index', inplace=True)\n",
    "df_Total"
   ]
  },
  {
   "cell_type": "code",
   "execution_count": 33,
   "id": "460c441a",
   "metadata": {},
   "outputs": [
    {
     "data": {
      "text/html": [
       "<div>\n",
       "<style scoped>\n",
       "    .dataframe tbody tr th:only-of-type {\n",
       "        vertical-align: middle;\n",
       "    }\n",
       "\n",
       "    .dataframe tbody tr th {\n",
       "        vertical-align: top;\n",
       "    }\n",
       "\n",
       "    .dataframe thead th {\n",
       "        text-align: right;\n",
       "    }\n",
       "</style>\n",
       "<table border=\"1\" class=\"dataframe\">\n",
       "  <thead>\n",
       "    <tr style=\"text-align: right;\">\n",
       "      <th></th>\n",
       "      <th>0</th>\n",
       "      <th>Total</th>\n",
       "      <th>Unit</th>\n",
       "    </tr>\n",
       "  </thead>\n",
       "  <tbody>\n",
       "    <tr>\n",
       "      <th>Amount_Sold</th>\n",
       "      <td>7109.00</td>\n",
       "      <td>7109.00</td>\n",
       "      <td>[-]</td>\n",
       "    </tr>\n",
       "    <tr>\n",
       "      <th>Amount_Delivered</th>\n",
       "      <td>7753.00</td>\n",
       "      <td>7753.00</td>\n",
       "      <td>[-]</td>\n",
       "    </tr>\n",
       "    <tr>\n",
       "      <th>Amount_Discarded</th>\n",
       "      <td>644.00</td>\n",
       "      <td>644.00</td>\n",
       "      <td>[-]</td>\n",
       "    </tr>\n",
       "    <tr>\n",
       "      <th>Discard_Rate</th>\n",
       "      <td>1.09</td>\n",
       "      <td>0.36</td>\n",
       "      <td>[-]</td>\n",
       "    </tr>\n",
       "    <tr>\n",
       "      <th>Sell_Price</th>\n",
       "      <td>1.40</td>\n",
       "      <td>0.47</td>\n",
       "      <td>[€]</td>\n",
       "    </tr>\n",
       "    <tr>\n",
       "      <th>Prod_Cost</th>\n",
       "      <td>0.63</td>\n",
       "      <td>0.21</td>\n",
       "      <td>[€]</td>\n",
       "    </tr>\n",
       "    <tr>\n",
       "      <th>Discarded</th>\n",
       "      <td>405.72</td>\n",
       "      <td>405.72</td>\n",
       "      <td>[€]</td>\n",
       "    </tr>\n",
       "    <tr>\n",
       "      <th>Revenue</th>\n",
       "      <td>9952.60</td>\n",
       "      <td>9952.60</td>\n",
       "      <td>[€]</td>\n",
       "    </tr>\n",
       "    <tr>\n",
       "      <th>Cost</th>\n",
       "      <td>4884.39</td>\n",
       "      <td>4884.39</td>\n",
       "      <td>[€]</td>\n",
       "    </tr>\n",
       "    <tr>\n",
       "      <th>Profit</th>\n",
       "      <td>5068.21</td>\n",
       "      <td>5068.21</td>\n",
       "      <td>[€]</td>\n",
       "    </tr>\n",
       "    <tr>\n",
       "      <th>Profitability</th>\n",
       "      <td>1.04</td>\n",
       "      <td>0.35</td>\n",
       "      <td>[-]</td>\n",
       "    </tr>\n",
       "  </tbody>\n",
       "</table>\n",
       "</div>"
      ],
      "text/plain": [
       "                        0    Total Unit\n",
       "Amount_Sold       7109.00  7109.00  [-]\n",
       "Amount_Delivered  7753.00  7753.00  [-]\n",
       "Amount_Discarded   644.00   644.00  [-]\n",
       "Discard_Rate         1.09     0.36  [-]\n",
       "Sell_Price           1.40     0.47  [€]\n",
       "Prod_Cost            0.63     0.21  [€]\n",
       "Discarded          405.72   405.72  [€]\n",
       "Revenue           9952.60  9952.60  [€]\n",
       "Cost              4884.39  4884.39  [€]\n",
       "Profit            5068.21  5068.21  [€]\n",
       "Profitability        1.04     0.35  [-]"
      ]
     },
     "execution_count": 33,
     "metadata": {},
     "output_type": "execute_result"
    }
   ],
   "source": [
    "#calculation for actuals of 2021\n",
    "df_actual['Amount_Discarded']=df_actual['Amount_Delivered']-df_actual['Amount_Sold']\n",
    "df_actual['Discard_Rate']=df_actual['Amount_Delivered']/df_actual['Amount_Sold']\n",
    "df_actual['Sell_Price']=[Sell_Price_Article_1]\n",
    "df_actual['Prod_Cost'] =[Prod_Cost_Article_1] \n",
    "df_actual['Discarded']=df_actual['Amount_Discarded']*df_actual['Prod_Cost']\n",
    "df_actual['Revenue']=df_actual['Amount_Sold']*df_actual['Sell_Price']\n",
    "df_actual['Cost']=df_actual['Amount_Delivered']*df_actual['Prod_Cost']\n",
    "df_actual['Profit']=df_actual['Revenue']-df_actual['Cost']\n",
    "df_actual['Profitability']=df_actual['Profit']/df_actual['Cost']\n",
    "\n",
    "df_actual = df_actual.transpose()\n",
    "df_actual.index.name = None\n",
    "\n",
    "\n",
    "df_actual[\"Total\"] = df_actual.sum(axis = 1, skipna = True)\n",
    "df_actual[\"Unit\"] = ['[-]','[-]','[-]','[-]','[€]','[€]','[€]','[€]','[€]','[€]','[-]']\n",
    "df_actual.Total.Profitability = df_actual.Total.Profitability / 3\n",
    "df_actual.Total.Discard_Rate = df_actual.Total.Discard_Rate / 3\n",
    "df_actual.Total.Sell_Price = df_actual.Total.Sell_Price / 3\n",
    "df_actual.Total.Prod_Cost = df_actual.Total.Prod_Cost / 3\n",
    "\n",
    "df_actual=df_actual.round(2)\n",
    "\n",
    "df_actual.head(20)"
   ]
  },
  {
   "cell_type": "code",
   "execution_count": 34,
   "id": "e358c5ff",
   "metadata": {},
   "outputs": [
    {
     "data": {
      "text/html": [
       "<div>\n",
       "<style scoped>\n",
       "    .dataframe tbody tr th:only-of-type {\n",
       "        vertical-align: middle;\n",
       "    }\n",
       "\n",
       "    .dataframe tbody tr th {\n",
       "        vertical-align: top;\n",
       "    }\n",
       "\n",
       "    .dataframe thead th {\n",
       "        text-align: right;\n",
       "    }\n",
       "</style>\n",
       "<table border=\"1\" class=\"dataframe\">\n",
       "  <thead>\n",
       "    <tr style=\"text-align: right;\">\n",
       "      <th></th>\n",
       "      <th>0</th>\n",
       "      <th>Total</th>\n",
       "      <th>Unit</th>\n",
       "    </tr>\n",
       "  </thead>\n",
       "  <tbody>\n",
       "    <tr>\n",
       "      <th>Amount_Sold</th>\n",
       "      <td>6994.46</td>\n",
       "      <td>6994.46</td>\n",
       "      <td>[-]</td>\n",
       "    </tr>\n",
       "    <tr>\n",
       "      <th>Amount_Delivered</th>\n",
       "      <td>7753.00</td>\n",
       "      <td>7753.00</td>\n",
       "      <td>[-]</td>\n",
       "    </tr>\n",
       "    <tr>\n",
       "      <th>Amount_Discarded</th>\n",
       "      <td>758.54</td>\n",
       "      <td>758.54</td>\n",
       "      <td>[-]</td>\n",
       "    </tr>\n",
       "    <tr>\n",
       "      <th>Discard_Rate</th>\n",
       "      <td>1.11</td>\n",
       "      <td>0.37</td>\n",
       "      <td>[-]</td>\n",
       "    </tr>\n",
       "    <tr>\n",
       "      <th>Sell_Price</th>\n",
       "      <td>1.40</td>\n",
       "      <td>0.47</td>\n",
       "      <td>[€]</td>\n",
       "    </tr>\n",
       "    <tr>\n",
       "      <th>Prod_Cost</th>\n",
       "      <td>0.63</td>\n",
       "      <td>0.21</td>\n",
       "      <td>[€]</td>\n",
       "    </tr>\n",
       "    <tr>\n",
       "      <th>Discarded</th>\n",
       "      <td>477.88</td>\n",
       "      <td>477.88</td>\n",
       "      <td>[€]</td>\n",
       "    </tr>\n",
       "    <tr>\n",
       "      <th>Revenue</th>\n",
       "      <td>9792.24</td>\n",
       "      <td>9792.24</td>\n",
       "      <td>[€]</td>\n",
       "    </tr>\n",
       "    <tr>\n",
       "      <th>Cost</th>\n",
       "      <td>4884.39</td>\n",
       "      <td>4884.39</td>\n",
       "      <td>[€]</td>\n",
       "    </tr>\n",
       "    <tr>\n",
       "      <th>Profit</th>\n",
       "      <td>4907.85</td>\n",
       "      <td>4907.85</td>\n",
       "      <td>[€]</td>\n",
       "    </tr>\n",
       "    <tr>\n",
       "      <th>Profitability</th>\n",
       "      <td>1.00</td>\n",
       "      <td>0.33</td>\n",
       "      <td>[-]</td>\n",
       "    </tr>\n",
       "  </tbody>\n",
       "</table>\n",
       "</div>"
      ],
      "text/plain": [
       "                        0    Total Unit\n",
       "Amount_Sold       6994.46  6994.46  [-]\n",
       "Amount_Delivered  7753.00  7753.00  [-]\n",
       "Amount_Discarded   758.54   758.54  [-]\n",
       "Discard_Rate         1.11     0.37  [-]\n",
       "Sell_Price           1.40     0.47  [€]\n",
       "Prod_Cost            0.63     0.21  [€]\n",
       "Discarded          477.88   477.88  [€]\n",
       "Revenue           9792.24  9792.24  [€]\n",
       "Cost              4884.39  4884.39  [€]\n",
       "Profit            4907.85  4907.85  [€]\n",
       "Profitability        1.00     0.33  [-]"
      ]
     },
     "execution_count": 34,
     "metadata": {},
     "output_type": "execute_result"
    }
   ],
   "source": [
    "#calculation for prediction of 2021\n",
    "df_prediction['Amount_Discarded']=df_prediction['Amount_Delivered']-df_prediction['Amount_Sold']\n",
    "df_prediction['Discard_Rate']=df_prediction['Amount_Delivered']/df_prediction['Amount_Sold']\n",
    "df_prediction['Sell_Price']=[Sell_Price_Article_1]\n",
    "df_prediction['Prod_Cost'] =[Prod_Cost_Article_1] \n",
    "df_prediction['Discarded']=df_prediction['Amount_Discarded']*df_prediction['Prod_Cost']\n",
    "df_prediction['Revenue']=df_prediction['Amount_Sold']*df_prediction['Sell_Price']\n",
    "df_prediction['Cost']=df_prediction['Amount_Delivered']*df_prediction['Prod_Cost']\n",
    "df_prediction['Profit']=df_prediction['Revenue']-df_prediction['Cost']\n",
    "df_prediction['Profitability']=df_prediction['Profit']/df_prediction['Cost']\n",
    "\n",
    "df_prediction = df_prediction.transpose()\n",
    "df_prediction.index.name = None\n",
    "\n",
    "\n",
    "df_prediction[\"Total\"] = df_prediction.sum(axis = 1, skipna = True)\n",
    "df_prediction[\"Unit\"] = ['[-]','[-]','[-]','[-]','[€]','[€]','[€]','[€]','[€]','[€]','[-]']\n",
    "df_prediction.Total.Profitability = df_prediction.Total.Profitability / 3\n",
    "df_prediction.Total.Discard_Rate = df_prediction.Total.Discard_Rate / 3\n",
    "df_prediction.Total.Sell_Price = df_prediction.Total.Sell_Price / 3\n",
    "df_prediction.Total.Prod_Cost = df_prediction.Total.Prod_Cost / 3\n",
    "\n",
    "df_prediction=df_prediction.round(2)\n",
    "\n",
    "df_prediction.head(20)"
   ]
  },
  {
   "cell_type": "code",
   "execution_count": 35,
   "id": "3c93c865",
   "metadata": {},
   "outputs": [
    {
     "data": {
      "text/html": [
       "<div>\n",
       "<style scoped>\n",
       "    .dataframe tbody tr th:only-of-type {\n",
       "        vertical-align: middle;\n",
       "    }\n",
       "\n",
       "    .dataframe tbody tr th {\n",
       "        vertical-align: top;\n",
       "    }\n",
       "\n",
       "    .dataframe thead th {\n",
       "        text-align: right;\n",
       "    }\n",
       "</style>\n",
       "<table border=\"1\" class=\"dataframe\">\n",
       "  <thead>\n",
       "    <tr style=\"text-align: right;\">\n",
       "      <th></th>\n",
       "      <th>0</th>\n",
       "      <th>Total</th>\n",
       "      <th>Unit</th>\n",
       "    </tr>\n",
       "  </thead>\n",
       "  <tbody>\n",
       "    <tr>\n",
       "      <th>Amount_Sold</th>\n",
       "      <td>8080.94</td>\n",
       "      <td>8080.94</td>\n",
       "      <td>[-]</td>\n",
       "    </tr>\n",
       "    <tr>\n",
       "      <th>Amount_Delivered</th>\n",
       "      <td>8610.44</td>\n",
       "      <td>8610.44</td>\n",
       "      <td>[-]</td>\n",
       "    </tr>\n",
       "    <tr>\n",
       "      <th>Amount_Discarded</th>\n",
       "      <td>529.50</td>\n",
       "      <td>529.50</td>\n",
       "      <td>[-]</td>\n",
       "    </tr>\n",
       "    <tr>\n",
       "      <th>Discard_Rate</th>\n",
       "      <td>1.07</td>\n",
       "      <td>0.36</td>\n",
       "      <td>[-]</td>\n",
       "    </tr>\n",
       "    <tr>\n",
       "      <th>Sell_Price</th>\n",
       "      <td>1.40</td>\n",
       "      <td>0.47</td>\n",
       "      <td>[€]</td>\n",
       "    </tr>\n",
       "    <tr>\n",
       "      <th>Prod_Cost</th>\n",
       "      <td>0.63</td>\n",
       "      <td>0.21</td>\n",
       "      <td>[€]</td>\n",
       "    </tr>\n",
       "    <tr>\n",
       "      <th>Discarded</th>\n",
       "      <td>333.58</td>\n",
       "      <td>333.58</td>\n",
       "      <td>[€]</td>\n",
       "    </tr>\n",
       "    <tr>\n",
       "      <th>Revenue</th>\n",
       "      <td>11313.32</td>\n",
       "      <td>11313.32</td>\n",
       "      <td>[€]</td>\n",
       "    </tr>\n",
       "    <tr>\n",
       "      <th>Cost</th>\n",
       "      <td>5424.58</td>\n",
       "      <td>5424.58</td>\n",
       "      <td>[€]</td>\n",
       "    </tr>\n",
       "    <tr>\n",
       "      <th>Profit</th>\n",
       "      <td>5888.74</td>\n",
       "      <td>5888.74</td>\n",
       "      <td>[€]</td>\n",
       "    </tr>\n",
       "    <tr>\n",
       "      <th>Profitability</th>\n",
       "      <td>1.09</td>\n",
       "      <td>0.36</td>\n",
       "      <td>[-]</td>\n",
       "    </tr>\n",
       "  </tbody>\n",
       "</table>\n",
       "</div>"
      ],
      "text/plain": [
       "                         0     Total Unit\n",
       "Amount_Sold        8080.94   8080.94  [-]\n",
       "Amount_Delivered   8610.44   8610.44  [-]\n",
       "Amount_Discarded    529.50    529.50  [-]\n",
       "Discard_Rate          1.07      0.36  [-]\n",
       "Sell_Price            1.40      0.47  [€]\n",
       "Prod_Cost             0.63      0.21  [€]\n",
       "Discarded           333.58    333.58  [€]\n",
       "Revenue           11313.32  11313.32  [€]\n",
       "Cost               5424.58   5424.58  [€]\n",
       "Profit             5888.74   5888.74  [€]\n",
       "Profitability         1.09      0.36  [-]"
      ]
     },
     "execution_count": 35,
     "metadata": {},
     "output_type": "execute_result"
    }
   ],
   "source": [
    "#calculation for forecast of 2022\n",
    "df_fcast['Amount_Discarded']=df_fcast['Amount_Delivered']-df_fcast['Amount_Sold']\n",
    "df_fcast['Discard_Rate']=df_fcast['Amount_Delivered']/df_fcast['Amount_Sold']\n",
    "df_fcast['Sell_Price']=[Sell_Price_Article_1]\n",
    "df_fcast['Prod_Cost'] =[Prod_Cost_Article_1] \n",
    "df_fcast['Discarded']=df_fcast['Amount_Discarded']*df_fcast['Prod_Cost']\n",
    "df_fcast['Revenue']=df_fcast['Amount_Sold']*df_fcast['Sell_Price']\n",
    "df_fcast['Cost']=df_fcast['Amount_Delivered']*df_fcast['Prod_Cost']\n",
    "df_fcast['Profit']=df_fcast['Revenue']-df_fcast['Cost']\n",
    "df_fcast['Profitability']=df_fcast['Profit']/df_fcast['Cost']\n",
    "\n",
    "df_fcast = df_fcast.transpose()\n",
    "df_fcast.index.name = None\n",
    "\n",
    "\n",
    "df_fcast[\"Total\"] = df_fcast.sum(axis = 1, skipna = True)\n",
    "df_fcast[\"Unit\"] = ['[-]','[-]','[-]','[-]','[€]','[€]','[€]','[€]','[€]','[€]','[-]']\n",
    "df_fcast.Total.Profitability = df_fcast.Total.Profitability / 3\n",
    "df_fcast.Total.Discard_Rate = df_fcast.Total.Discard_Rate / 3\n",
    "df_fcast.Total.Sell_Price = df_fcast.Total.Sell_Price / 3\n",
    "df_fcast.Total.Prod_Cost = df_fcast.Total.Prod_Cost / 3\n",
    "\n",
    "df_fcast=df_fcast.round(2)\n",
    "\n",
    "df_fcast.head(20)"
   ]
  },
  {
   "cell_type": "code",
   "execution_count": 36,
   "id": "90c43364",
   "metadata": {},
   "outputs": [
    {
     "data": {
      "text/html": [
       "<div>\n",
       "<style scoped>\n",
       "    .dataframe tbody tr th:only-of-type {\n",
       "        vertical-align: middle;\n",
       "    }\n",
       "\n",
       "    .dataframe tbody tr th {\n",
       "        vertical-align: top;\n",
       "    }\n",
       "\n",
       "    .dataframe thead th {\n",
       "        text-align: right;\n",
       "    }\n",
       "</style>\n",
       "<table border=\"1\" class=\"dataframe\">\n",
       "  <thead>\n",
       "    <tr style=\"text-align: right;\">\n",
       "      <th></th>\n",
       "      <th>0</th>\n",
       "      <th>Total</th>\n",
       "      <th>Unit</th>\n",
       "    </tr>\n",
       "  </thead>\n",
       "  <tbody>\n",
       "    <tr>\n",
       "      <th>Amount_Sold</th>\n",
       "      <td>8080.94</td>\n",
       "      <td>8080.94</td>\n",
       "      <td>[-]</td>\n",
       "    </tr>\n",
       "    <tr>\n",
       "      <th>Amount_Delivered</th>\n",
       "      <td>8221.45</td>\n",
       "      <td>8221.45</td>\n",
       "      <td>[-]</td>\n",
       "    </tr>\n",
       "    <tr>\n",
       "      <th>Amount_Discarded</th>\n",
       "      <td>140.50</td>\n",
       "      <td>140.50</td>\n",
       "      <td>[-]</td>\n",
       "    </tr>\n",
       "    <tr>\n",
       "      <th>Discard_Rate</th>\n",
       "      <td>1.02</td>\n",
       "      <td>0.34</td>\n",
       "      <td>[-]</td>\n",
       "    </tr>\n",
       "    <tr>\n",
       "      <th>Sell_Price</th>\n",
       "      <td>1.40</td>\n",
       "      <td>0.47</td>\n",
       "      <td>[€]</td>\n",
       "    </tr>\n",
       "    <tr>\n",
       "      <th>Prod_Cost</th>\n",
       "      <td>0.63</td>\n",
       "      <td>0.21</td>\n",
       "      <td>[€]</td>\n",
       "    </tr>\n",
       "    <tr>\n",
       "      <th>Discarded</th>\n",
       "      <td>88.52</td>\n",
       "      <td>88.52</td>\n",
       "      <td>[€]</td>\n",
       "    </tr>\n",
       "    <tr>\n",
       "      <th>Revenue</th>\n",
       "      <td>11313.32</td>\n",
       "      <td>11313.32</td>\n",
       "      <td>[€]</td>\n",
       "    </tr>\n",
       "    <tr>\n",
       "      <th>Cost</th>\n",
       "      <td>5179.51</td>\n",
       "      <td>5179.51</td>\n",
       "      <td>[€]</td>\n",
       "    </tr>\n",
       "    <tr>\n",
       "      <th>Profit</th>\n",
       "      <td>6133.81</td>\n",
       "      <td>6133.81</td>\n",
       "      <td>[€]</td>\n",
       "    </tr>\n",
       "    <tr>\n",
       "      <th>Profitability</th>\n",
       "      <td>1.18</td>\n",
       "      <td>0.39</td>\n",
       "      <td>[-]</td>\n",
       "    </tr>\n",
       "  </tbody>\n",
       "</table>\n",
       "</div>"
      ],
      "text/plain": [
       "                         0     Total Unit\n",
       "Amount_Sold        8080.94   8080.94  [-]\n",
       "Amount_Delivered   8221.45   8221.45  [-]\n",
       "Amount_Discarded    140.50    140.50  [-]\n",
       "Discard_Rate          1.02      0.34  [-]\n",
       "Sell_Price            1.40      0.47  [€]\n",
       "Prod_Cost             0.63      0.21  [€]\n",
       "Discarded            88.52     88.52  [€]\n",
       "Revenue           11313.32  11313.32  [€]\n",
       "Cost               5179.51   5179.51  [€]\n",
       "Profit             6133.81   6133.81  [€]\n",
       "Profitability         1.18      0.39  [-]"
      ]
     },
     "execution_count": 36,
     "metadata": {},
     "output_type": "execute_result"
    }
   ],
   "source": [
    "#calculation for forecast 2022 optimized\n",
    "df_fcast_opt['Amount_Discarded']=df_fcast_opt['Amount_Delivered']-df_fcast_opt['Amount_Sold']\n",
    "df_fcast_opt['Discard_Rate']=df_fcast_opt['Amount_Delivered']/df_fcast_opt['Amount_Sold']\n",
    "df_fcast_opt['Sell_Price']=[Sell_Price_Article_1]\n",
    "df_fcast_opt['Prod_Cost'] =[Prod_Cost_Article_1] \n",
    "df_fcast_opt['Discarded']=df_fcast_opt['Amount_Discarded']*df_fcast_opt['Prod_Cost']\n",
    "df_fcast_opt['Revenue']=df_fcast_opt['Amount_Sold']*df_fcast_opt['Sell_Price']\n",
    "df_fcast_opt['Cost']=df_fcast_opt['Amount_Delivered']*df_fcast_opt['Prod_Cost']\n",
    "df_fcast_opt['Profit']=df_fcast_opt['Revenue']-df_fcast_opt['Cost']\n",
    "df_fcast_opt['Profitability']=df_fcast_opt['Profit']/df_fcast_opt['Cost']\n",
    "\n",
    "df_fcast_opt = df_fcast_opt.transpose()\n",
    "df_fcast_opt.index.name = None\n",
    "\n",
    "\n",
    "df_fcast_opt[\"Total\"] = df_fcast_opt.sum(axis = 1, skipna = True)\n",
    "df_fcast_opt[\"Unit\"] = ['[-]','[-]','[-]','[-]','[€]','[€]','[€]','[€]','[€]','[€]','[-]']\n",
    "df_fcast_opt.Total.Profitability = df_fcast_opt.Total.Profitability / 3\n",
    "df_fcast_opt.Total.Discard_Rate = df_fcast_opt.Total.Discard_Rate / 3\n",
    "df_fcast_opt.Total.Sell_Price = df_fcast_opt.Total.Sell_Price / 3\n",
    "df_fcast_opt.Total.Prod_Cost = df_fcast_opt.Total.Prod_Cost / 3\n",
    "\n",
    "df_fcast_opt=df_fcast_opt.round(2)\n",
    "\n",
    "df_fcast_opt.head(20)"
   ]
  },
  {
   "cell_type": "code",
   "execution_count": 38,
   "id": "7595fd74",
   "metadata": {},
   "outputs": [
    {
     "data": {
      "text/html": [
       "<div>\n",
       "<style scoped>\n",
       "    .dataframe tbody tr th:only-of-type {\n",
       "        vertical-align: middle;\n",
       "    }\n",
       "\n",
       "    .dataframe tbody tr th {\n",
       "        vertical-align: top;\n",
       "    }\n",
       "\n",
       "    .dataframe thead th {\n",
       "        text-align: right;\n",
       "    }\n",
       "</style>\n",
       "<table border=\"1\" class=\"dataframe\">\n",
       "  <thead>\n",
       "    <tr style=\"text-align: right;\">\n",
       "      <th></th>\n",
       "      <th>Actual_2021</th>\n",
       "      <th>Prediction_2021</th>\n",
       "      <th>Forecast_2022</th>\n",
       "      <th>Forecast_2022_opt</th>\n",
       "      <th>Unit</th>\n",
       "    </tr>\n",
       "  </thead>\n",
       "  <tbody>\n",
       "    <tr>\n",
       "      <th>Amount_Sold</th>\n",
       "      <td>7109.00</td>\n",
       "      <td>6994.46</td>\n",
       "      <td>8080.94</td>\n",
       "      <td>8080.94</td>\n",
       "      <td>[-]</td>\n",
       "    </tr>\n",
       "    <tr>\n",
       "      <th>Amount_Delivered</th>\n",
       "      <td>7753.00</td>\n",
       "      <td>7753.00</td>\n",
       "      <td>8610.44</td>\n",
       "      <td>8221.45</td>\n",
       "      <td>[-]</td>\n",
       "    </tr>\n",
       "    <tr>\n",
       "      <th>Amount_Discarded</th>\n",
       "      <td>644.00</td>\n",
       "      <td>758.54</td>\n",
       "      <td>529.50</td>\n",
       "      <td>140.50</td>\n",
       "      <td>[-]</td>\n",
       "    </tr>\n",
       "    <tr>\n",
       "      <th>Discard_Rate</th>\n",
       "      <td>1.09</td>\n",
       "      <td>1.11</td>\n",
       "      <td>1.07</td>\n",
       "      <td>1.02</td>\n",
       "      <td>[-]</td>\n",
       "    </tr>\n",
       "    <tr>\n",
       "      <th>Sell_Price</th>\n",
       "      <td>1.40</td>\n",
       "      <td>1.40</td>\n",
       "      <td>1.40</td>\n",
       "      <td>1.40</td>\n",
       "      <td>[€]</td>\n",
       "    </tr>\n",
       "    <tr>\n",
       "      <th>Prod_Cost</th>\n",
       "      <td>0.63</td>\n",
       "      <td>0.63</td>\n",
       "      <td>0.63</td>\n",
       "      <td>0.63</td>\n",
       "      <td>[€]</td>\n",
       "    </tr>\n",
       "    <tr>\n",
       "      <th>Discarded</th>\n",
       "      <td>405.72</td>\n",
       "      <td>477.88</td>\n",
       "      <td>333.58</td>\n",
       "      <td>88.52</td>\n",
       "      <td>[€]</td>\n",
       "    </tr>\n",
       "    <tr>\n",
       "      <th>Revenue</th>\n",
       "      <td>9952.60</td>\n",
       "      <td>9792.24</td>\n",
       "      <td>11313.32</td>\n",
       "      <td>11313.32</td>\n",
       "      <td>[€]</td>\n",
       "    </tr>\n",
       "    <tr>\n",
       "      <th>Cost</th>\n",
       "      <td>4884.39</td>\n",
       "      <td>4884.39</td>\n",
       "      <td>5424.58</td>\n",
       "      <td>5179.51</td>\n",
       "      <td>[€]</td>\n",
       "    </tr>\n",
       "    <tr>\n",
       "      <th>Profit</th>\n",
       "      <td>5068.21</td>\n",
       "      <td>4907.85</td>\n",
       "      <td>5888.74</td>\n",
       "      <td>6133.81</td>\n",
       "      <td>[€]</td>\n",
       "    </tr>\n",
       "    <tr>\n",
       "      <th>Profitability</th>\n",
       "      <td>1.04</td>\n",
       "      <td>1.00</td>\n",
       "      <td>1.09</td>\n",
       "      <td>1.18</td>\n",
       "      <td>[-]</td>\n",
       "    </tr>\n",
       "  </tbody>\n",
       "</table>\n",
       "</div>"
      ],
      "text/plain": [
       "                  Actual_2021  Prediction_2021  Forecast_2022  \\\n",
       "Amount_Sold           7109.00          6994.46        8080.94   \n",
       "Amount_Delivered      7753.00          7753.00        8610.44   \n",
       "Amount_Discarded       644.00           758.54         529.50   \n",
       "Discard_Rate             1.09             1.11           1.07   \n",
       "Sell_Price               1.40             1.40           1.40   \n",
       "Prod_Cost                0.63             0.63           0.63   \n",
       "Discarded              405.72           477.88         333.58   \n",
       "Revenue               9952.60          9792.24       11313.32   \n",
       "Cost                  4884.39          4884.39        5424.58   \n",
       "Profit                5068.21          4907.85        5888.74   \n",
       "Profitability            1.04             1.00           1.09   \n",
       "\n",
       "                  Forecast_2022_opt Unit  \n",
       "Amount_Sold                 8080.94  [-]  \n",
       "Amount_Delivered            8221.45  [-]  \n",
       "Amount_Discarded             140.50  [-]  \n",
       "Discard_Rate                   1.02  [-]  \n",
       "Sell_Price                     1.40  [€]  \n",
       "Prod_Cost                      0.63  [€]  \n",
       "Discarded                     88.52  [€]  \n",
       "Revenue                    11313.32  [€]  \n",
       "Cost                        5179.51  [€]  \n",
       "Profit                      6133.81  [€]  \n",
       "Profitability                  1.18  [-]  "
      ]
     },
     "execution_count": 38,
     "metadata": {},
     "output_type": "execute_result"
    }
   ],
   "source": [
    "df_Total_art1=pd.concat([df_actual[df_actual.columns[0]],df_prediction[df_prediction.columns[0]],\n",
    "                         df_fcast[df_fcast.columns[0]], df_fcast_opt[df_fcast_opt.columns[0]],df_fcast_opt.Unit], axis=1)\n",
    "df_Total_art1.columns = ['Actual_2021','Prediction_2021','Forecast_2022','Forecast_2022_opt','Unit']\n",
    "df_Total_art1"
   ]
  },
  {
   "cell_type": "code",
   "execution_count": null,
   "id": "2c8ee0a9",
   "metadata": {},
   "outputs": [],
   "source": []
  }
 ],
 "metadata": {
  "kernelspec": {
   "display_name": "Python 3",
   "language": "python",
   "name": "python3"
  },
  "language_info": {
   "codemirror_mode": {
    "name": "ipython",
    "version": 3
   },
   "file_extension": ".py",
   "mimetype": "text/x-python",
   "name": "python",
   "nbconvert_exporter": "python",
   "pygments_lexer": "ipython3",
   "version": "3.8.8"
  }
 },
 "nbformat": 4,
 "nbformat_minor": 5
}
